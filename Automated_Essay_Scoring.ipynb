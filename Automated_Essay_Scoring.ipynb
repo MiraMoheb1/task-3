{
  "nbformat": 4,
  "nbformat_minor": 0,
  "metadata": {
    "colab": {
      "provenance": []
    },
    "kernelspec": {
      "name": "python3",
      "display_name": "Python 3"
    },
    "language_info": {
      "name": "python"
    }
  },
  "cells": [
    {
      "cell_type": "markdown",
      "source": [
        "📚 | Import Libraries"
      ],
      "metadata": {
        "id": "kZWt273S9qem"
      }
    },
    {
      "source": [
        "!pip install keras_nlp\n",
        "import os\n",
        "os.environ[\"KERAS_BACKEND\"] = \"jax\"  # \"jax\" or \"tensorflow\" or \"torch\"\n",
        "\n",
        "import keras_nlp # This line caused the ModuleNotFoundError\n",
        "import keras\n",
        "import keras.backend as K\n",
        "import tensorflow as tf\n",
        "\n",
        "import numpy as np\n",
        "import pandas as pd\n",
        "\n",
        "import matplotlib.pyplot as plt\n",
        "import matplotlib as mpl\n",
        "\n",
        "cmap = mpl.cm.get_cmap('coolwarm')"
      ],
      "cell_type": "code",
      "metadata": {
        "colab": {
          "base_uri": "https://localhost:8080/"
        },
        "id": "iv2iLGsp9yhb",
        "outputId": "f994d85e-274d-498c-b82a-524ed506914c"
      },
      "execution_count": null,
      "outputs": [
        {
          "output_type": "stream",
          "name": "stdout",
          "text": [
            "Requirement already satisfied: keras_nlp in /usr/local/lib/python3.10/dist-packages (0.14.4)\n",
            "Requirement already satisfied: absl-py in /usr/local/lib/python3.10/dist-packages (from keras_nlp) (1.4.0)\n",
            "Requirement already satisfied: numpy in /usr/local/lib/python3.10/dist-packages (from keras_nlp) (1.26.4)\n",
            "Requirement already satisfied: packaging in /usr/local/lib/python3.10/dist-packages (from keras_nlp) (24.1)\n",
            "Requirement already satisfied: regex in /usr/local/lib/python3.10/dist-packages (from keras_nlp) (2024.5.15)\n",
            "Requirement already satisfied: rich in /usr/local/lib/python3.10/dist-packages (from keras_nlp) (13.8.0)\n",
            "Requirement already satisfied: kagglehub in /usr/local/lib/python3.10/dist-packages (from keras_nlp) (0.2.9)\n",
            "Requirement already satisfied: tensorflow-text in /usr/local/lib/python3.10/dist-packages (from keras_nlp) (2.17.0)\n",
            "Requirement already satisfied: requests in /usr/local/lib/python3.10/dist-packages (from kagglehub->keras_nlp) (2.32.3)\n",
            "Requirement already satisfied: tqdm in /usr/local/lib/python3.10/dist-packages (from kagglehub->keras_nlp) (4.66.5)\n",
            "Requirement already satisfied: markdown-it-py>=2.2.0 in /usr/local/lib/python3.10/dist-packages (from rich->keras_nlp) (3.0.0)\n",
            "Requirement already satisfied: pygments<3.0.0,>=2.13.0 in /usr/local/lib/python3.10/dist-packages (from rich->keras_nlp) (2.16.1)\n",
            "Requirement already satisfied: tensorflow<2.18,>=2.17.0 in /usr/local/lib/python3.10/dist-packages (from tensorflow-text->keras_nlp) (2.17.0)\n",
            "Requirement already satisfied: mdurl~=0.1 in /usr/local/lib/python3.10/dist-packages (from markdown-it-py>=2.2.0->rich->keras_nlp) (0.1.2)\n",
            "Requirement already satisfied: astunparse>=1.6.0 in /usr/local/lib/python3.10/dist-packages (from tensorflow<2.18,>=2.17.0->tensorflow-text->keras_nlp) (1.6.3)\n",
            "Requirement already satisfied: flatbuffers>=24.3.25 in /usr/local/lib/python3.10/dist-packages (from tensorflow<2.18,>=2.17.0->tensorflow-text->keras_nlp) (24.3.25)\n",
            "Requirement already satisfied: gast!=0.5.0,!=0.5.1,!=0.5.2,>=0.2.1 in /usr/local/lib/python3.10/dist-packages (from tensorflow<2.18,>=2.17.0->tensorflow-text->keras_nlp) (0.6.0)\n",
            "Requirement already satisfied: google-pasta>=0.1.1 in /usr/local/lib/python3.10/dist-packages (from tensorflow<2.18,>=2.17.0->tensorflow-text->keras_nlp) (0.2.0)\n",
            "Requirement already satisfied: h5py>=3.10.0 in /usr/local/lib/python3.10/dist-packages (from tensorflow<2.18,>=2.17.0->tensorflow-text->keras_nlp) (3.11.0)\n",
            "Requirement already satisfied: libclang>=13.0.0 in /usr/local/lib/python3.10/dist-packages (from tensorflow<2.18,>=2.17.0->tensorflow-text->keras_nlp) (18.1.1)\n",
            "Requirement already satisfied: ml-dtypes<0.5.0,>=0.3.1 in /usr/local/lib/python3.10/dist-packages (from tensorflow<2.18,>=2.17.0->tensorflow-text->keras_nlp) (0.4.0)\n",
            "Requirement already satisfied: opt-einsum>=2.3.2 in /usr/local/lib/python3.10/dist-packages (from tensorflow<2.18,>=2.17.0->tensorflow-text->keras_nlp) (3.3.0)\n",
            "Requirement already satisfied: protobuf!=4.21.0,!=4.21.1,!=4.21.2,!=4.21.3,!=4.21.4,!=4.21.5,<5.0.0dev,>=3.20.3 in /usr/local/lib/python3.10/dist-packages (from tensorflow<2.18,>=2.17.0->tensorflow-text->keras_nlp) (3.20.3)\n",
            "Requirement already satisfied: setuptools in /usr/local/lib/python3.10/dist-packages (from tensorflow<2.18,>=2.17.0->tensorflow-text->keras_nlp) (71.0.4)\n",
            "Requirement already satisfied: six>=1.12.0 in /usr/local/lib/python3.10/dist-packages (from tensorflow<2.18,>=2.17.0->tensorflow-text->keras_nlp) (1.16.0)\n",
            "Requirement already satisfied: termcolor>=1.1.0 in /usr/local/lib/python3.10/dist-packages (from tensorflow<2.18,>=2.17.0->tensorflow-text->keras_nlp) (2.4.0)\n",
            "Requirement already satisfied: typing-extensions>=3.6.6 in /usr/local/lib/python3.10/dist-packages (from tensorflow<2.18,>=2.17.0->tensorflow-text->keras_nlp) (4.12.2)\n",
            "Requirement already satisfied: wrapt>=1.11.0 in /usr/local/lib/python3.10/dist-packages (from tensorflow<2.18,>=2.17.0->tensorflow-text->keras_nlp) (1.16.0)\n",
            "Requirement already satisfied: grpcio<2.0,>=1.24.3 in /usr/local/lib/python3.10/dist-packages (from tensorflow<2.18,>=2.17.0->tensorflow-text->keras_nlp) (1.64.1)\n",
            "Requirement already satisfied: tensorboard<2.18,>=2.17 in /usr/local/lib/python3.10/dist-packages (from tensorflow<2.18,>=2.17.0->tensorflow-text->keras_nlp) (2.17.0)\n",
            "Requirement already satisfied: keras>=3.2.0 in /usr/local/lib/python3.10/dist-packages (from tensorflow<2.18,>=2.17.0->tensorflow-text->keras_nlp) (3.4.1)\n",
            "Requirement already satisfied: tensorflow-io-gcs-filesystem>=0.23.1 in /usr/local/lib/python3.10/dist-packages (from tensorflow<2.18,>=2.17.0->tensorflow-text->keras_nlp) (0.37.1)\n",
            "Requirement already satisfied: charset-normalizer<4,>=2 in /usr/local/lib/python3.10/dist-packages (from requests->kagglehub->keras_nlp) (3.3.2)\n",
            "Requirement already satisfied: idna<4,>=2.5 in /usr/local/lib/python3.10/dist-packages (from requests->kagglehub->keras_nlp) (3.8)\n",
            "Requirement already satisfied: urllib3<3,>=1.21.1 in /usr/local/lib/python3.10/dist-packages (from requests->kagglehub->keras_nlp) (2.0.7)\n",
            "Requirement already satisfied: certifi>=2017.4.17 in /usr/local/lib/python3.10/dist-packages (from requests->kagglehub->keras_nlp) (2024.8.30)\n",
            "Requirement already satisfied: wheel<1.0,>=0.23.0 in /usr/local/lib/python3.10/dist-packages (from astunparse>=1.6.0->tensorflow<2.18,>=2.17.0->tensorflow-text->keras_nlp) (0.44.0)\n",
            "Requirement already satisfied: namex in /usr/local/lib/python3.10/dist-packages (from keras>=3.2.0->tensorflow<2.18,>=2.17.0->tensorflow-text->keras_nlp) (0.0.8)\n",
            "Requirement already satisfied: optree in /usr/local/lib/python3.10/dist-packages (from keras>=3.2.0->tensorflow<2.18,>=2.17.0->tensorflow-text->keras_nlp) (0.12.1)\n",
            "Requirement already satisfied: markdown>=2.6.8 in /usr/local/lib/python3.10/dist-packages (from tensorboard<2.18,>=2.17->tensorflow<2.18,>=2.17.0->tensorflow-text->keras_nlp) (3.7)\n",
            "Requirement already satisfied: tensorboard-data-server<0.8.0,>=0.7.0 in /usr/local/lib/python3.10/dist-packages (from tensorboard<2.18,>=2.17->tensorflow<2.18,>=2.17.0->tensorflow-text->keras_nlp) (0.7.2)\n",
            "Requirement already satisfied: werkzeug>=1.0.1 in /usr/local/lib/python3.10/dist-packages (from tensorboard<2.18,>=2.17->tensorflow<2.18,>=2.17.0->tensorflow-text->keras_nlp) (3.0.4)\n",
            "Requirement already satisfied: MarkupSafe>=2.1.1 in /usr/local/lib/python3.10/dist-packages (from werkzeug>=1.0.1->tensorboard<2.18,>=2.17->tensorflow<2.18,>=2.17.0->tensorflow-text->keras_nlp) (2.1.5)\n"
          ]
        },
        {
          "output_type": "stream",
          "name": "stderr",
          "text": [
            "<ipython-input-12-ead4ecd52d1f>:16: MatplotlibDeprecationWarning: The get_cmap function was deprecated in Matplotlib 3.7 and will be removed two minor releases later. Use ``matplotlib.colormaps[name]`` or ``matplotlib.colormaps.get_cmap(obj)`` instead.\n",
            "  cmap = mpl.cm.get_cmap('coolwarm')\n"
          ]
        }
      ]
    },
    {
      "cell_type": "markdown",
      "source": [
        "\n",
        "Library Version"
      ],
      "metadata": {
        "id": "NKHPPcTI98Ee"
      }
    },
    {
      "cell_type": "code",
      "source": [
        "print(\"TensorFlow:\", tf.__version__)\n",
        "print(\"Keras:\", keras.__version__)\n",
        "print(\"KerasNLP:\", keras_nlp.__version__)"
      ],
      "metadata": {
        "colab": {
          "base_uri": "https://localhost:8080/"
        },
        "id": "mw5xgCK-9_Zc",
        "outputId": "975be68d-2e1c-4ac7-be95-86cec0927d18"
      },
      "execution_count": null,
      "outputs": [
        {
          "output_type": "stream",
          "name": "stdout",
          "text": [
            "TensorFlow: 2.17.0\n",
            "Keras: 3.4.1\n",
            "KerasNLP: 0.14.4\n"
          ]
        }
      ]
    },
    {
      "cell_type": "markdown",
      "source": [
        "⚙️ | Configuration"
      ],
      "metadata": {
        "id": "hJZ0GSqr-FBw"
      }
    },
    {
      "cell_type": "code",
      "source": [
        "class CFG:\n",
        "    seed = 42  # Random seed\n",
        "    preset = \"deberta_v3_extra_small_en\" # Name of pretrained models\n",
        "    sequence_length = 512  # Input sequence length\n",
        "    epochs = 3 # Training epochs\n",
        "    batch_size = 32  # Batch size\n",
        "    scheduler = 'cosine'  # Learning rate scheduler"
      ],
      "metadata": {
        "id": "CkdzYVJ3-GCN"
      },
      "execution_count": null,
      "outputs": []
    },
    {
      "cell_type": "markdown",
      "source": [
        "♻️ | Reproducibility\n",
        "\n",
        "Sets value for random seed to produce similar result in each run"
      ],
      "metadata": {
        "id": "BNh5KC6e-Rka"
      }
    },
    {
      "cell_type": "code",
      "source": [
        "keras.utils.set_random_seed(CFG.seed)"
      ],
      "metadata": {
        "id": "65lxAlAT-S4Y"
      },
      "execution_count": null,
      "outputs": []
    },
    {
      "cell_type": "markdown",
      "source": [
        "🧮 | Mixed Precision"
      ],
      "metadata": {
        "id": "I0Q08WiU-lNt"
      }
    },
    {
      "cell_type": "code",
      "source": [
        "keras.mixed_precision.set_global_policy(\"mixed_float16\")\n"
      ],
      "metadata": {
        "id": "RpdZaSfE-l1x"
      },
      "execution_count": null,
      "outputs": []
    },
    {
      "cell_type": "markdown",
      "source": [
        "📖 | Meta Data¶\n",
        "Files in the dataset:\n",
        "\n",
        "{test|train}.csv\n",
        "essay_id: Unique identifier for each essay.\n",
        "full_text: Essay text.\n",
        "score: Essay's score from 1-6.\n",
        "sample_submission.csv: Valid sample submission.\n",
        "What does the score mean?\n",
        "\n",
        "The score represents the quality of student-written argumentative essays. Essays were rated based on a rubric covering perspective development, critical thinking, evidence use, organization, language, and grammar/mechanics. Here's a summary of the scoring criteria:\n",
        "\n",
        "Score\tDescription\n",
        "6\tClear mastery with few errors, outstanding critical thinking, appropriate evidence, well-organized, skilled language use.\n",
        "5\tReasonable mastery with occasional errors, strong critical thinking, generally appropriate evidence, well-organized, good language use.\n",
        "4\tAdequate mastery with some lapses, competent critical thinking, adequate evidence, generally organized, fair language use.\n",
        "3\tDeveloping mastery with weaknesses, limited critical thinking, inconsistent evidence, limited organization, fair language use with weaknesses.\n",
        "2\tLittle mastery with serious flaws, weak critical thinking, insufficient evidence, poor organization, limited language use with frequent errors.\n",
        "1\tVery little or no mastery, severely flawed, no viable point of view, disorganized, fundamental language flaws, pervasive grammar/mechanics errors.\n",
        "This grading is very similar to the grading used in the ETS GRE (Graduate Record Examinations) AWA exam, where prospective graduate students are asked to write essays to judge their analytical abilities, and their scores are later used for graduate admission.\n"
      ],
      "metadata": {
        "id": "jdA803SnAYM9"
      }
    },
    {
      "cell_type": "markdown",
      "source": [
        " Load data"
      ],
      "metadata": {
        "id": "UVWnFwcX-s9t"
      }
    },
    {
      "cell_type": "code",
      "source": [
        "# Load data\n",
        "data= pd.read_csv(\"/content/drive/MyDrive/ML/train.csv\",index_col=0)\n",
        "data"
      ],
      "metadata": {
        "colab": {
          "base_uri": "https://localhost:8080/",
          "height": 455
        },
        "id": "wDKMV0wW-t-j",
        "outputId": "a3f5e3a1-6e31-400a-d459-b7bdab39413e"
      },
      "execution_count": null,
      "outputs": [
        {
          "output_type": "execute_result",
          "data": {
            "text/plain": [
              "                                                  full_text  score\n",
              "essay_id                                                          \n",
              "000d118   Many people have car where they live. The thin...      3\n",
              "000fe60   I am a scientist at NASA that is discussing th...      3\n",
              "001ab80   People always wish they had the same technolog...      4\n",
              "001bdc0   We all heard about Venus, the planet without a...      4\n",
              "002ba53   Dear, State Senator\\n\\nThis is a letter to arg...      3\n",
              "...                                                     ...    ...\n",
              "ffd378d   the story \" The Challenge of Exploing Venus \" ...      2\n",
              "ffddf1f   Technology has changed a lot of ways that we l...      4\n",
              "fff016d   If you don't like sitting around all day than ...      2\n",
              "fffb49b   In \"The Challenge of Exporing Venus,\" the auth...      1\n",
              "fffed3e   Venus is worthy place to study but dangerous. ...      2\n",
              "\n",
              "[17307 rows x 2 columns]"
            ],
            "text/html": [
              "\n",
              "  <div id=\"df-dfbc9e95-8b5c-4f8c-a16c-2ad3a1590cf4\" class=\"colab-df-container\">\n",
              "    <div>\n",
              "<style scoped>\n",
              "    .dataframe tbody tr th:only-of-type {\n",
              "        vertical-align: middle;\n",
              "    }\n",
              "\n",
              "    .dataframe tbody tr th {\n",
              "        vertical-align: top;\n",
              "    }\n",
              "\n",
              "    .dataframe thead th {\n",
              "        text-align: right;\n",
              "    }\n",
              "</style>\n",
              "<table border=\"1\" class=\"dataframe\">\n",
              "  <thead>\n",
              "    <tr style=\"text-align: right;\">\n",
              "      <th></th>\n",
              "      <th>full_text</th>\n",
              "      <th>score</th>\n",
              "    </tr>\n",
              "    <tr>\n",
              "      <th>essay_id</th>\n",
              "      <th></th>\n",
              "      <th></th>\n",
              "    </tr>\n",
              "  </thead>\n",
              "  <tbody>\n",
              "    <tr>\n",
              "      <th>000d118</th>\n",
              "      <td>Many people have car where they live. The thin...</td>\n",
              "      <td>3</td>\n",
              "    </tr>\n",
              "    <tr>\n",
              "      <th>000fe60</th>\n",
              "      <td>I am a scientist at NASA that is discussing th...</td>\n",
              "      <td>3</td>\n",
              "    </tr>\n",
              "    <tr>\n",
              "      <th>001ab80</th>\n",
              "      <td>People always wish they had the same technolog...</td>\n",
              "      <td>4</td>\n",
              "    </tr>\n",
              "    <tr>\n",
              "      <th>001bdc0</th>\n",
              "      <td>We all heard about Venus, the planet without a...</td>\n",
              "      <td>4</td>\n",
              "    </tr>\n",
              "    <tr>\n",
              "      <th>002ba53</th>\n",
              "      <td>Dear, State Senator\\n\\nThis is a letter to arg...</td>\n",
              "      <td>3</td>\n",
              "    </tr>\n",
              "    <tr>\n",
              "      <th>...</th>\n",
              "      <td>...</td>\n",
              "      <td>...</td>\n",
              "    </tr>\n",
              "    <tr>\n",
              "      <th>ffd378d</th>\n",
              "      <td>the story \" The Challenge of Exploing Venus \" ...</td>\n",
              "      <td>2</td>\n",
              "    </tr>\n",
              "    <tr>\n",
              "      <th>ffddf1f</th>\n",
              "      <td>Technology has changed a lot of ways that we l...</td>\n",
              "      <td>4</td>\n",
              "    </tr>\n",
              "    <tr>\n",
              "      <th>fff016d</th>\n",
              "      <td>If you don't like sitting around all day than ...</td>\n",
              "      <td>2</td>\n",
              "    </tr>\n",
              "    <tr>\n",
              "      <th>fffb49b</th>\n",
              "      <td>In \"The Challenge of Exporing Venus,\" the auth...</td>\n",
              "      <td>1</td>\n",
              "    </tr>\n",
              "    <tr>\n",
              "      <th>fffed3e</th>\n",
              "      <td>Venus is worthy place to study but dangerous. ...</td>\n",
              "      <td>2</td>\n",
              "    </tr>\n",
              "  </tbody>\n",
              "</table>\n",
              "<p>17307 rows × 2 columns</p>\n",
              "</div>\n",
              "    <div class=\"colab-df-buttons\">\n",
              "\n",
              "  <div class=\"colab-df-container\">\n",
              "    <button class=\"colab-df-convert\" onclick=\"convertToInteractive('df-dfbc9e95-8b5c-4f8c-a16c-2ad3a1590cf4')\"\n",
              "            title=\"Convert this dataframe to an interactive table.\"\n",
              "            style=\"display:none;\">\n",
              "\n",
              "  <svg xmlns=\"http://www.w3.org/2000/svg\" height=\"24px\" viewBox=\"0 -960 960 960\">\n",
              "    <path d=\"M120-120v-720h720v720H120Zm60-500h600v-160H180v160Zm220 220h160v-160H400v160Zm0 220h160v-160H400v160ZM180-400h160v-160H180v160Zm440 0h160v-160H620v160ZM180-180h160v-160H180v160Zm440 0h160v-160H620v160Z\"/>\n",
              "  </svg>\n",
              "    </button>\n",
              "\n",
              "  <style>\n",
              "    .colab-df-container {\n",
              "      display:flex;\n",
              "      gap: 12px;\n",
              "    }\n",
              "\n",
              "    .colab-df-convert {\n",
              "      background-color: #E8F0FE;\n",
              "      border: none;\n",
              "      border-radius: 50%;\n",
              "      cursor: pointer;\n",
              "      display: none;\n",
              "      fill: #1967D2;\n",
              "      height: 32px;\n",
              "      padding: 0 0 0 0;\n",
              "      width: 32px;\n",
              "    }\n",
              "\n",
              "    .colab-df-convert:hover {\n",
              "      background-color: #E2EBFA;\n",
              "      box-shadow: 0px 1px 2px rgba(60, 64, 67, 0.3), 0px 1px 3px 1px rgba(60, 64, 67, 0.15);\n",
              "      fill: #174EA6;\n",
              "    }\n",
              "\n",
              "    .colab-df-buttons div {\n",
              "      margin-bottom: 4px;\n",
              "    }\n",
              "\n",
              "    [theme=dark] .colab-df-convert {\n",
              "      background-color: #3B4455;\n",
              "      fill: #D2E3FC;\n",
              "    }\n",
              "\n",
              "    [theme=dark] .colab-df-convert:hover {\n",
              "      background-color: #434B5C;\n",
              "      box-shadow: 0px 1px 3px 1px rgba(0, 0, 0, 0.15);\n",
              "      filter: drop-shadow(0px 1px 2px rgba(0, 0, 0, 0.3));\n",
              "      fill: #FFFFFF;\n",
              "    }\n",
              "  </style>\n",
              "\n",
              "    <script>\n",
              "      const buttonEl =\n",
              "        document.querySelector('#df-dfbc9e95-8b5c-4f8c-a16c-2ad3a1590cf4 button.colab-df-convert');\n",
              "      buttonEl.style.display =\n",
              "        google.colab.kernel.accessAllowed ? 'block' : 'none';\n",
              "\n",
              "      async function convertToInteractive(key) {\n",
              "        const element = document.querySelector('#df-dfbc9e95-8b5c-4f8c-a16c-2ad3a1590cf4');\n",
              "        const dataTable =\n",
              "          await google.colab.kernel.invokeFunction('convertToInteractive',\n",
              "                                                    [key], {});\n",
              "        if (!dataTable) return;\n",
              "\n",
              "        const docLinkHtml = 'Like what you see? Visit the ' +\n",
              "          '<a target=\"_blank\" href=https://colab.research.google.com/notebooks/data_table.ipynb>data table notebook</a>'\n",
              "          + ' to learn more about interactive tables.';\n",
              "        element.innerHTML = '';\n",
              "        dataTable['output_type'] = 'display_data';\n",
              "        await google.colab.output.renderOutput(dataTable, element);\n",
              "        const docLink = document.createElement('div');\n",
              "        docLink.innerHTML = docLinkHtml;\n",
              "        element.appendChild(docLink);\n",
              "      }\n",
              "    </script>\n",
              "  </div>\n",
              "\n",
              "\n",
              "<div id=\"df-49a7bf96-0f38-48a6-866b-086d882cc1a9\">\n",
              "  <button class=\"colab-df-quickchart\" onclick=\"quickchart('df-49a7bf96-0f38-48a6-866b-086d882cc1a9')\"\n",
              "            title=\"Suggest charts\"\n",
              "            style=\"display:none;\">\n",
              "\n",
              "<svg xmlns=\"http://www.w3.org/2000/svg\" height=\"24px\"viewBox=\"0 0 24 24\"\n",
              "     width=\"24px\">\n",
              "    <g>\n",
              "        <path d=\"M19 3H5c-1.1 0-2 .9-2 2v14c0 1.1.9 2 2 2h14c1.1 0 2-.9 2-2V5c0-1.1-.9-2-2-2zM9 17H7v-7h2v7zm4 0h-2V7h2v10zm4 0h-2v-4h2v4z\"/>\n",
              "    </g>\n",
              "</svg>\n",
              "  </button>\n",
              "\n",
              "<style>\n",
              "  .colab-df-quickchart {\n",
              "      --bg-color: #E8F0FE;\n",
              "      --fill-color: #1967D2;\n",
              "      --hover-bg-color: #E2EBFA;\n",
              "      --hover-fill-color: #174EA6;\n",
              "      --disabled-fill-color: #AAA;\n",
              "      --disabled-bg-color: #DDD;\n",
              "  }\n",
              "\n",
              "  [theme=dark] .colab-df-quickchart {\n",
              "      --bg-color: #3B4455;\n",
              "      --fill-color: #D2E3FC;\n",
              "      --hover-bg-color: #434B5C;\n",
              "      --hover-fill-color: #FFFFFF;\n",
              "      --disabled-bg-color: #3B4455;\n",
              "      --disabled-fill-color: #666;\n",
              "  }\n",
              "\n",
              "  .colab-df-quickchart {\n",
              "    background-color: var(--bg-color);\n",
              "    border: none;\n",
              "    border-radius: 50%;\n",
              "    cursor: pointer;\n",
              "    display: none;\n",
              "    fill: var(--fill-color);\n",
              "    height: 32px;\n",
              "    padding: 0;\n",
              "    width: 32px;\n",
              "  }\n",
              "\n",
              "  .colab-df-quickchart:hover {\n",
              "    background-color: var(--hover-bg-color);\n",
              "    box-shadow: 0 1px 2px rgba(60, 64, 67, 0.3), 0 1px 3px 1px rgba(60, 64, 67, 0.15);\n",
              "    fill: var(--button-hover-fill-color);\n",
              "  }\n",
              "\n",
              "  .colab-df-quickchart-complete:disabled,\n",
              "  .colab-df-quickchart-complete:disabled:hover {\n",
              "    background-color: var(--disabled-bg-color);\n",
              "    fill: var(--disabled-fill-color);\n",
              "    box-shadow: none;\n",
              "  }\n",
              "\n",
              "  .colab-df-spinner {\n",
              "    border: 2px solid var(--fill-color);\n",
              "    border-color: transparent;\n",
              "    border-bottom-color: var(--fill-color);\n",
              "    animation:\n",
              "      spin 1s steps(1) infinite;\n",
              "  }\n",
              "\n",
              "  @keyframes spin {\n",
              "    0% {\n",
              "      border-color: transparent;\n",
              "      border-bottom-color: var(--fill-color);\n",
              "      border-left-color: var(--fill-color);\n",
              "    }\n",
              "    20% {\n",
              "      border-color: transparent;\n",
              "      border-left-color: var(--fill-color);\n",
              "      border-top-color: var(--fill-color);\n",
              "    }\n",
              "    30% {\n",
              "      border-color: transparent;\n",
              "      border-left-color: var(--fill-color);\n",
              "      border-top-color: var(--fill-color);\n",
              "      border-right-color: var(--fill-color);\n",
              "    }\n",
              "    40% {\n",
              "      border-color: transparent;\n",
              "      border-right-color: var(--fill-color);\n",
              "      border-top-color: var(--fill-color);\n",
              "    }\n",
              "    60% {\n",
              "      border-color: transparent;\n",
              "      border-right-color: var(--fill-color);\n",
              "    }\n",
              "    80% {\n",
              "      border-color: transparent;\n",
              "      border-right-color: var(--fill-color);\n",
              "      border-bottom-color: var(--fill-color);\n",
              "    }\n",
              "    90% {\n",
              "      border-color: transparent;\n",
              "      border-bottom-color: var(--fill-color);\n",
              "    }\n",
              "  }\n",
              "</style>\n",
              "\n",
              "  <script>\n",
              "    async function quickchart(key) {\n",
              "      const quickchartButtonEl =\n",
              "        document.querySelector('#' + key + ' button');\n",
              "      quickchartButtonEl.disabled = true;  // To prevent multiple clicks.\n",
              "      quickchartButtonEl.classList.add('colab-df-spinner');\n",
              "      try {\n",
              "        const charts = await google.colab.kernel.invokeFunction(\n",
              "            'suggestCharts', [key], {});\n",
              "      } catch (error) {\n",
              "        console.error('Error during call to suggestCharts:', error);\n",
              "      }\n",
              "      quickchartButtonEl.classList.remove('colab-df-spinner');\n",
              "      quickchartButtonEl.classList.add('colab-df-quickchart-complete');\n",
              "    }\n",
              "    (() => {\n",
              "      let quickchartButtonEl =\n",
              "        document.querySelector('#df-49a7bf96-0f38-48a6-866b-086d882cc1a9 button');\n",
              "      quickchartButtonEl.style.display =\n",
              "        google.colab.kernel.accessAllowed ? 'block' : 'none';\n",
              "    })();\n",
              "  </script>\n",
              "</div>\n",
              "\n",
              "  <div id=\"id_5d5f2b36-c820-467e-a02f-1adffa8ab2cd\">\n",
              "    <style>\n",
              "      .colab-df-generate {\n",
              "        background-color: #E8F0FE;\n",
              "        border: none;\n",
              "        border-radius: 50%;\n",
              "        cursor: pointer;\n",
              "        display: none;\n",
              "        fill: #1967D2;\n",
              "        height: 32px;\n",
              "        padding: 0 0 0 0;\n",
              "        width: 32px;\n",
              "      }\n",
              "\n",
              "      .colab-df-generate:hover {\n",
              "        background-color: #E2EBFA;\n",
              "        box-shadow: 0px 1px 2px rgba(60, 64, 67, 0.3), 0px 1px 3px 1px rgba(60, 64, 67, 0.15);\n",
              "        fill: #174EA6;\n",
              "      }\n",
              "\n",
              "      [theme=dark] .colab-df-generate {\n",
              "        background-color: #3B4455;\n",
              "        fill: #D2E3FC;\n",
              "      }\n",
              "\n",
              "      [theme=dark] .colab-df-generate:hover {\n",
              "        background-color: #434B5C;\n",
              "        box-shadow: 0px 1px 3px 1px rgba(0, 0, 0, 0.15);\n",
              "        filter: drop-shadow(0px 1px 2px rgba(0, 0, 0, 0.3));\n",
              "        fill: #FFFFFF;\n",
              "      }\n",
              "    </style>\n",
              "    <button class=\"colab-df-generate\" onclick=\"generateWithVariable('data')\"\n",
              "            title=\"Generate code using this dataframe.\"\n",
              "            style=\"display:none;\">\n",
              "\n",
              "  <svg xmlns=\"http://www.w3.org/2000/svg\" height=\"24px\"viewBox=\"0 0 24 24\"\n",
              "       width=\"24px\">\n",
              "    <path d=\"M7,19H8.4L18.45,9,17,7.55,7,17.6ZM5,21V16.75L18.45,3.32a2,2,0,0,1,2.83,0l1.4,1.43a1.91,1.91,0,0,1,.58,1.4,1.91,1.91,0,0,1-.58,1.4L9.25,21ZM18.45,9,17,7.55Zm-12,3A5.31,5.31,0,0,0,4.9,8.1,5.31,5.31,0,0,0,1,6.5,5.31,5.31,0,0,0,4.9,4.9,5.31,5.31,0,0,0,6.5,1,5.31,5.31,0,0,0,8.1,4.9,5.31,5.31,0,0,0,12,6.5,5.46,5.46,0,0,0,6.5,12Z\"/>\n",
              "  </svg>\n",
              "    </button>\n",
              "    <script>\n",
              "      (() => {\n",
              "      const buttonEl =\n",
              "        document.querySelector('#id_5d5f2b36-c820-467e-a02f-1adffa8ab2cd button.colab-df-generate');\n",
              "      buttonEl.style.display =\n",
              "        google.colab.kernel.accessAllowed ? 'block' : 'none';\n",
              "\n",
              "      buttonEl.onclick = () => {\n",
              "        google.colab.notebook.generateWithVariable('data');\n",
              "      }\n",
              "      })();\n",
              "    </script>\n",
              "  </div>\n",
              "\n",
              "    </div>\n",
              "  </div>\n"
            ],
            "application/vnd.google.colaboratory.intrinsic+json": {
              "type": "dataframe",
              "variable_name": "data",
              "summary": "{\n  \"name\": \"data\",\n  \"rows\": 17307,\n  \"fields\": [\n    {\n      \"column\": \"essay_id\",\n      \"properties\": {\n        \"dtype\": \"string\",\n        \"num_unique_values\": 17307,\n        \"samples\": [\n          \"bb4c434\",\n          \"44e88b0\",\n          \"0ba78ec\"\n        ],\n        \"semantic_type\": \"\",\n        \"description\": \"\"\n      }\n    },\n    {\n      \"column\": \"full_text\",\n      \"properties\": {\n        \"dtype\": \"string\",\n        \"num_unique_values\": 17307,\n        \"samples\": [\n          \"People tend to use there cars so much, they basically can't live or get through the day with out their car. We use the car to go every where rather it's to the grocery store , work or just to go hang out with friends and family! Just traveling in general. Well imagine if we limited the usage of cars in our community! I strongly believe that doing this would have many advantages to our community for many reasons like it will make people less stressful all the time, there would be less accidents and it would definitly be better for the environment.\\n\\nOMG I ran out of gas or OH my i have to take my car to the shop to get it fixed is usually the two main things you hear people stay when the word \\\"car\\\" comes up. Having a car comes with alot of stress because it of expenses and having to take of its every need and usually when someone is stressed they are not the best person you wanna have a conversation with. I think that if we limit the usage of cars a lot of people in the community will be alot happier. According to the article\\n\\n\\\"Car-free Cities\\\"\\n\\nby\\n\\nElisabeth Rosenthal in source 2 a lady name Heidrun Walter says \\\" When i had a car i was always tense. I'm much happier this way.\\\" and i think that is a perfect example of limited car usauage can make a person happier.\\n\\nIn addition, I feel that if that if we limit the car usage in our community it will make this community a much safer environment. We hear and see about many car accidents in our country and community and cars can be very very dangerous. People often get injuried and/or die in car recks to. So limitting the car usage in the communitry will keep people more safe and most importantly alive . Kids will be able to run aroumd the neighborhood and play with their friends and also cross the street safely without the disruption of a car coming and stopping them from what they are doing\\u00a0 because they do not wants to get hurt from the car coming because they do not know who is driving the car.\\n\\nLast but not least limiting the use of car usage in the community because it would definitly be better for the environment. In science class we often talk about how cars polute the air and just mess up the waehter in the car and me my self i can also feel the car changing the more i see cars more cars in the streets. I think that it makes the days hotter and i also think that it makes the winters come around earlier and it makes it alot more colder. I live in the Sunshine florida and in the south. So all year round its usually hot extremly hot but has i realize more people are driving around the winers seem ALOT more cold then it usually is and the cold last for longer periods of time.\\n\\nIn conclusion, I belive that if we limit the car usuage in our community it will make it a better place for many reasons. Like it will make people less stressful and\\u00a0 be happier, there will be less accidents on the road and it will also help the environment a lot. \\u00a0\\u00a0\\u00a0\\u00a0\\u00a0\\u00a0\\u00a0\\u00a0\\u00a0\\u00a0\\u00a0\\u00a0\\u00a0 \\u00a0\\u00a0\\u00a0\\u00a0\\u00a0    \",\n          \"Imagine being a top scientist at NASA and Viking 1 spacecraft \\\"spotted the shadowy likeness of a human face.\\\" A lot of people thought of alien life possibility, but others thought it to be just a natural landform. What would your thoughts be about the image? The face of Mars is a natural landform. There's similar landforms on Earth, high pixel photos taken, and not enough reliable information to support the alien life theory.\\n\\nTo begin, there are similar landforms on Earth to the one on Mars. As stated in the text, \\\"what the picture actually shows is the Martian equivalent of a butte or mesa- landforms common around the American West.\\\" Also stated in the text is Garvin giving his opinion, \\\"it reminds me most of Middle Butte in the Snake River Plain of Idaho.\\\"\\n\\nAnother issue with the alien life theory is the fact that NASA has high quality cameras. Quoting the text, \\\"each pixel in the 2001 image spans 1.56 meters, compared to 43 meters per pixel in the best 1976 Viking photo.\\\" In the result of having high quality pictures you could see small details clearly. As stated in the article Garvin said, \\\" 'so, if there were objects in this picture like airplanes on the ground or Egyptian-style pyramids or even small shacks, you could see what they were!' \\\" Concluding that statement nothing other than the landform that had resembled a face was seen on Mars.\\n\\nFinally, there wasn't enough evidence to support the claim of alien life on Mars. The first pictures were blurry and had haze or cloud coverage. This theory was more popular on the online world than in the science world. As stated in the text, \\\"the 'Face on Mars' has since become a pop icon. It has starred in a Hollywood film, appeared in books, magazines, radio talk shows-even haunted grocery store checkout lines for 25 years!\\\" This proves that this might be just for publicity and attention. There has been many conspiracy theorists.\\n\\nUltimately, the face on Mars is just a natural landform. There's similar landforms on Earth, high pixel photos taken, and not enough reliable information to support the alien life theory.       \",\n          \"The face of Mars could not be created by aliens. It is a land form created by the conditions of mars and looks like a face only by coincidence. Mesa's are common in this area of Mars and there are many others like this one just without the same shadows which makes the appearance of a human's face.\\n\\nOut of so many different land forms in Cydonia why should this be any different. In the second paragrapgh of the article, it stated that the Cydonia region is known for its buttes and mesas. The face of Mars is just another mesa no different that any other one except for its unique shadows. It is strange to see a formation on an supposedly uninhabited planet that depicts a \\\"human\\\" face. Espescially when no human has ever set foot on the planet of Mars before. But at the same time, that is all the more reason to believe that this is nothing more that a weird coincidence since no person has ever been there.\\n\\nTo conspiracy theorists dismay, this strange landform is nothing more than martian butte or mesa and a weird coincidence. It is an interesting formation that stumped and puzzled scientests all over the world. But we now know the formation is not anything that will reveal alien lifeforms or alien activity.        \"\n        ],\n        \"semantic_type\": \"\",\n        \"description\": \"\"\n      }\n    },\n    {\n      \"column\": \"score\",\n      \"properties\": {\n        \"dtype\": \"number\",\n        \"std\": 1,\n        \"min\": 1,\n        \"max\": 6,\n        \"num_unique_values\": 6,\n        \"samples\": [\n          3,\n          4,\n          6\n        ],\n        \"semantic_type\": \"\",\n        \"description\": \"\"\n      }\n    }\n  ]\n}"
            }
          },
          "metadata": {},
          "execution_count": 17
        }
      ]
    },
    {
      "cell_type": "markdown",
      "source": [
        "#load test data\n"
      ],
      "metadata": {
        "id": "YgvIS05__BLJ"
      }
    },
    {
      "cell_type": "code",
      "source": [
        "# Load data\n",
        "test= pd.read_csv(\"/content/drive/MyDrive/ML/test data .csv\",index_col=0)\n",
        "test"
      ],
      "metadata": {
        "colab": {
          "base_uri": "https://localhost:8080/",
          "height": 455
        },
        "id": "m8g1frPe_Fcy",
        "outputId": "8535b2b0-68f7-4c71-945b-bec1a25b67aa"
      },
      "execution_count": null,
      "outputs": [
        {
          "output_type": "execute_result",
          "data": {
            "text/plain": [
              "          score\n",
              "essay_id       \n",
              "000d118       3\n",
              "000fe60       3\n",
              "001ab80       4\n",
              "001bdc0       4\n",
              "002ba53       3\n",
              "...         ...\n",
              "ffd378d       2\n",
              "ffddf1f       4\n",
              "fff016d       2\n",
              "fffb49b       1\n",
              "fffed3e       2\n",
              "\n",
              "[17307 rows x 1 columns]"
            ],
            "text/html": [
              "\n",
              "  <div id=\"df-1a6d503f-3e09-445e-b153-6f61b23ab130\" class=\"colab-df-container\">\n",
              "    <div>\n",
              "<style scoped>\n",
              "    .dataframe tbody tr th:only-of-type {\n",
              "        vertical-align: middle;\n",
              "    }\n",
              "\n",
              "    .dataframe tbody tr th {\n",
              "        vertical-align: top;\n",
              "    }\n",
              "\n",
              "    .dataframe thead th {\n",
              "        text-align: right;\n",
              "    }\n",
              "</style>\n",
              "<table border=\"1\" class=\"dataframe\">\n",
              "  <thead>\n",
              "    <tr style=\"text-align: right;\">\n",
              "      <th></th>\n",
              "      <th>score</th>\n",
              "    </tr>\n",
              "    <tr>\n",
              "      <th>essay_id</th>\n",
              "      <th></th>\n",
              "    </tr>\n",
              "  </thead>\n",
              "  <tbody>\n",
              "    <tr>\n",
              "      <th>000d118</th>\n",
              "      <td>3</td>\n",
              "    </tr>\n",
              "    <tr>\n",
              "      <th>000fe60</th>\n",
              "      <td>3</td>\n",
              "    </tr>\n",
              "    <tr>\n",
              "      <th>001ab80</th>\n",
              "      <td>4</td>\n",
              "    </tr>\n",
              "    <tr>\n",
              "      <th>001bdc0</th>\n",
              "      <td>4</td>\n",
              "    </tr>\n",
              "    <tr>\n",
              "      <th>002ba53</th>\n",
              "      <td>3</td>\n",
              "    </tr>\n",
              "    <tr>\n",
              "      <th>...</th>\n",
              "      <td>...</td>\n",
              "    </tr>\n",
              "    <tr>\n",
              "      <th>ffd378d</th>\n",
              "      <td>2</td>\n",
              "    </tr>\n",
              "    <tr>\n",
              "      <th>ffddf1f</th>\n",
              "      <td>4</td>\n",
              "    </tr>\n",
              "    <tr>\n",
              "      <th>fff016d</th>\n",
              "      <td>2</td>\n",
              "    </tr>\n",
              "    <tr>\n",
              "      <th>fffb49b</th>\n",
              "      <td>1</td>\n",
              "    </tr>\n",
              "    <tr>\n",
              "      <th>fffed3e</th>\n",
              "      <td>2</td>\n",
              "    </tr>\n",
              "  </tbody>\n",
              "</table>\n",
              "<p>17307 rows × 1 columns</p>\n",
              "</div>\n",
              "    <div class=\"colab-df-buttons\">\n",
              "\n",
              "  <div class=\"colab-df-container\">\n",
              "    <button class=\"colab-df-convert\" onclick=\"convertToInteractive('df-1a6d503f-3e09-445e-b153-6f61b23ab130')\"\n",
              "            title=\"Convert this dataframe to an interactive table.\"\n",
              "            style=\"display:none;\">\n",
              "\n",
              "  <svg xmlns=\"http://www.w3.org/2000/svg\" height=\"24px\" viewBox=\"0 -960 960 960\">\n",
              "    <path d=\"M120-120v-720h720v720H120Zm60-500h600v-160H180v160Zm220 220h160v-160H400v160Zm0 220h160v-160H400v160ZM180-400h160v-160H180v160Zm440 0h160v-160H620v160ZM180-180h160v-160H180v160Zm440 0h160v-160H620v160Z\"/>\n",
              "  </svg>\n",
              "    </button>\n",
              "\n",
              "  <style>\n",
              "    .colab-df-container {\n",
              "      display:flex;\n",
              "      gap: 12px;\n",
              "    }\n",
              "\n",
              "    .colab-df-convert {\n",
              "      background-color: #E8F0FE;\n",
              "      border: none;\n",
              "      border-radius: 50%;\n",
              "      cursor: pointer;\n",
              "      display: none;\n",
              "      fill: #1967D2;\n",
              "      height: 32px;\n",
              "      padding: 0 0 0 0;\n",
              "      width: 32px;\n",
              "    }\n",
              "\n",
              "    .colab-df-convert:hover {\n",
              "      background-color: #E2EBFA;\n",
              "      box-shadow: 0px 1px 2px rgba(60, 64, 67, 0.3), 0px 1px 3px 1px rgba(60, 64, 67, 0.15);\n",
              "      fill: #174EA6;\n",
              "    }\n",
              "\n",
              "    .colab-df-buttons div {\n",
              "      margin-bottom: 4px;\n",
              "    }\n",
              "\n",
              "    [theme=dark] .colab-df-convert {\n",
              "      background-color: #3B4455;\n",
              "      fill: #D2E3FC;\n",
              "    }\n",
              "\n",
              "    [theme=dark] .colab-df-convert:hover {\n",
              "      background-color: #434B5C;\n",
              "      box-shadow: 0px 1px 3px 1px rgba(0, 0, 0, 0.15);\n",
              "      filter: drop-shadow(0px 1px 2px rgba(0, 0, 0, 0.3));\n",
              "      fill: #FFFFFF;\n",
              "    }\n",
              "  </style>\n",
              "\n",
              "    <script>\n",
              "      const buttonEl =\n",
              "        document.querySelector('#df-1a6d503f-3e09-445e-b153-6f61b23ab130 button.colab-df-convert');\n",
              "      buttonEl.style.display =\n",
              "        google.colab.kernel.accessAllowed ? 'block' : 'none';\n",
              "\n",
              "      async function convertToInteractive(key) {\n",
              "        const element = document.querySelector('#df-1a6d503f-3e09-445e-b153-6f61b23ab130');\n",
              "        const dataTable =\n",
              "          await google.colab.kernel.invokeFunction('convertToInteractive',\n",
              "                                                    [key], {});\n",
              "        if (!dataTable) return;\n",
              "\n",
              "        const docLinkHtml = 'Like what you see? Visit the ' +\n",
              "          '<a target=\"_blank\" href=https://colab.research.google.com/notebooks/data_table.ipynb>data table notebook</a>'\n",
              "          + ' to learn more about interactive tables.';\n",
              "        element.innerHTML = '';\n",
              "        dataTable['output_type'] = 'display_data';\n",
              "        await google.colab.output.renderOutput(dataTable, element);\n",
              "        const docLink = document.createElement('div');\n",
              "        docLink.innerHTML = docLinkHtml;\n",
              "        element.appendChild(docLink);\n",
              "      }\n",
              "    </script>\n",
              "  </div>\n",
              "\n",
              "\n",
              "<div id=\"df-4bb3a472-3c7e-410e-be24-6c20e874d665\">\n",
              "  <button class=\"colab-df-quickchart\" onclick=\"quickchart('df-4bb3a472-3c7e-410e-be24-6c20e874d665')\"\n",
              "            title=\"Suggest charts\"\n",
              "            style=\"display:none;\">\n",
              "\n",
              "<svg xmlns=\"http://www.w3.org/2000/svg\" height=\"24px\"viewBox=\"0 0 24 24\"\n",
              "     width=\"24px\">\n",
              "    <g>\n",
              "        <path d=\"M19 3H5c-1.1 0-2 .9-2 2v14c0 1.1.9 2 2 2h14c1.1 0 2-.9 2-2V5c0-1.1-.9-2-2-2zM9 17H7v-7h2v7zm4 0h-2V7h2v10zm4 0h-2v-4h2v4z\"/>\n",
              "    </g>\n",
              "</svg>\n",
              "  </button>\n",
              "\n",
              "<style>\n",
              "  .colab-df-quickchart {\n",
              "      --bg-color: #E8F0FE;\n",
              "      --fill-color: #1967D2;\n",
              "      --hover-bg-color: #E2EBFA;\n",
              "      --hover-fill-color: #174EA6;\n",
              "      --disabled-fill-color: #AAA;\n",
              "      --disabled-bg-color: #DDD;\n",
              "  }\n",
              "\n",
              "  [theme=dark] .colab-df-quickchart {\n",
              "      --bg-color: #3B4455;\n",
              "      --fill-color: #D2E3FC;\n",
              "      --hover-bg-color: #434B5C;\n",
              "      --hover-fill-color: #FFFFFF;\n",
              "      --disabled-bg-color: #3B4455;\n",
              "      --disabled-fill-color: #666;\n",
              "  }\n",
              "\n",
              "  .colab-df-quickchart {\n",
              "    background-color: var(--bg-color);\n",
              "    border: none;\n",
              "    border-radius: 50%;\n",
              "    cursor: pointer;\n",
              "    display: none;\n",
              "    fill: var(--fill-color);\n",
              "    height: 32px;\n",
              "    padding: 0;\n",
              "    width: 32px;\n",
              "  }\n",
              "\n",
              "  .colab-df-quickchart:hover {\n",
              "    background-color: var(--hover-bg-color);\n",
              "    box-shadow: 0 1px 2px rgba(60, 64, 67, 0.3), 0 1px 3px 1px rgba(60, 64, 67, 0.15);\n",
              "    fill: var(--button-hover-fill-color);\n",
              "  }\n",
              "\n",
              "  .colab-df-quickchart-complete:disabled,\n",
              "  .colab-df-quickchart-complete:disabled:hover {\n",
              "    background-color: var(--disabled-bg-color);\n",
              "    fill: var(--disabled-fill-color);\n",
              "    box-shadow: none;\n",
              "  }\n",
              "\n",
              "  .colab-df-spinner {\n",
              "    border: 2px solid var(--fill-color);\n",
              "    border-color: transparent;\n",
              "    border-bottom-color: var(--fill-color);\n",
              "    animation:\n",
              "      spin 1s steps(1) infinite;\n",
              "  }\n",
              "\n",
              "  @keyframes spin {\n",
              "    0% {\n",
              "      border-color: transparent;\n",
              "      border-bottom-color: var(--fill-color);\n",
              "      border-left-color: var(--fill-color);\n",
              "    }\n",
              "    20% {\n",
              "      border-color: transparent;\n",
              "      border-left-color: var(--fill-color);\n",
              "      border-top-color: var(--fill-color);\n",
              "    }\n",
              "    30% {\n",
              "      border-color: transparent;\n",
              "      border-left-color: var(--fill-color);\n",
              "      border-top-color: var(--fill-color);\n",
              "      border-right-color: var(--fill-color);\n",
              "    }\n",
              "    40% {\n",
              "      border-color: transparent;\n",
              "      border-right-color: var(--fill-color);\n",
              "      border-top-color: var(--fill-color);\n",
              "    }\n",
              "    60% {\n",
              "      border-color: transparent;\n",
              "      border-right-color: var(--fill-color);\n",
              "    }\n",
              "    80% {\n",
              "      border-color: transparent;\n",
              "      border-right-color: var(--fill-color);\n",
              "      border-bottom-color: var(--fill-color);\n",
              "    }\n",
              "    90% {\n",
              "      border-color: transparent;\n",
              "      border-bottom-color: var(--fill-color);\n",
              "    }\n",
              "  }\n",
              "</style>\n",
              "\n",
              "  <script>\n",
              "    async function quickchart(key) {\n",
              "      const quickchartButtonEl =\n",
              "        document.querySelector('#' + key + ' button');\n",
              "      quickchartButtonEl.disabled = true;  // To prevent multiple clicks.\n",
              "      quickchartButtonEl.classList.add('colab-df-spinner');\n",
              "      try {\n",
              "        const charts = await google.colab.kernel.invokeFunction(\n",
              "            'suggestCharts', [key], {});\n",
              "      } catch (error) {\n",
              "        console.error('Error during call to suggestCharts:', error);\n",
              "      }\n",
              "      quickchartButtonEl.classList.remove('colab-df-spinner');\n",
              "      quickchartButtonEl.classList.add('colab-df-quickchart-complete');\n",
              "    }\n",
              "    (() => {\n",
              "      let quickchartButtonEl =\n",
              "        document.querySelector('#df-4bb3a472-3c7e-410e-be24-6c20e874d665 button');\n",
              "      quickchartButtonEl.style.display =\n",
              "        google.colab.kernel.accessAllowed ? 'block' : 'none';\n",
              "    })();\n",
              "  </script>\n",
              "</div>\n",
              "\n",
              "  <div id=\"id_7ed45733-547c-44a1-b8b7-814927a4f1cc\">\n",
              "    <style>\n",
              "      .colab-df-generate {\n",
              "        background-color: #E8F0FE;\n",
              "        border: none;\n",
              "        border-radius: 50%;\n",
              "        cursor: pointer;\n",
              "        display: none;\n",
              "        fill: #1967D2;\n",
              "        height: 32px;\n",
              "        padding: 0 0 0 0;\n",
              "        width: 32px;\n",
              "      }\n",
              "\n",
              "      .colab-df-generate:hover {\n",
              "        background-color: #E2EBFA;\n",
              "        box-shadow: 0px 1px 2px rgba(60, 64, 67, 0.3), 0px 1px 3px 1px rgba(60, 64, 67, 0.15);\n",
              "        fill: #174EA6;\n",
              "      }\n",
              "\n",
              "      [theme=dark] .colab-df-generate {\n",
              "        background-color: #3B4455;\n",
              "        fill: #D2E3FC;\n",
              "      }\n",
              "\n",
              "      [theme=dark] .colab-df-generate:hover {\n",
              "        background-color: #434B5C;\n",
              "        box-shadow: 0px 1px 3px 1px rgba(0, 0, 0, 0.15);\n",
              "        filter: drop-shadow(0px 1px 2px rgba(0, 0, 0, 0.3));\n",
              "        fill: #FFFFFF;\n",
              "      }\n",
              "    </style>\n",
              "    <button class=\"colab-df-generate\" onclick=\"generateWithVariable('test')\"\n",
              "            title=\"Generate code using this dataframe.\"\n",
              "            style=\"display:none;\">\n",
              "\n",
              "  <svg xmlns=\"http://www.w3.org/2000/svg\" height=\"24px\"viewBox=\"0 0 24 24\"\n",
              "       width=\"24px\">\n",
              "    <path d=\"M7,19H8.4L18.45,9,17,7.55,7,17.6ZM5,21V16.75L18.45,3.32a2,2,0,0,1,2.83,0l1.4,1.43a1.91,1.91,0,0,1,.58,1.4,1.91,1.91,0,0,1-.58,1.4L9.25,21ZM18.45,9,17,7.55Zm-12,3A5.31,5.31,0,0,0,4.9,8.1,5.31,5.31,0,0,0,1,6.5,5.31,5.31,0,0,0,4.9,4.9,5.31,5.31,0,0,0,6.5,1,5.31,5.31,0,0,0,8.1,4.9,5.31,5.31,0,0,0,12,6.5,5.46,5.46,0,0,0,6.5,12Z\"/>\n",
              "  </svg>\n",
              "    </button>\n",
              "    <script>\n",
              "      (() => {\n",
              "      const buttonEl =\n",
              "        document.querySelector('#id_7ed45733-547c-44a1-b8b7-814927a4f1cc button.colab-df-generate');\n",
              "      buttonEl.style.display =\n",
              "        google.colab.kernel.accessAllowed ? 'block' : 'none';\n",
              "\n",
              "      buttonEl.onclick = () => {\n",
              "        google.colab.notebook.generateWithVariable('test');\n",
              "      }\n",
              "      })();\n",
              "    </script>\n",
              "  </div>\n",
              "\n",
              "    </div>\n",
              "  </div>\n"
            ],
            "application/vnd.google.colaboratory.intrinsic+json": {
              "type": "dataframe",
              "variable_name": "test",
              "summary": "{\n  \"name\": \"test\",\n  \"rows\": 17307,\n  \"fields\": [\n    {\n      \"column\": \"essay_id\",\n      \"properties\": {\n        \"dtype\": \"string\",\n        \"num_unique_values\": 17307,\n        \"samples\": [\n          \"bb4c434\",\n          \"44e88b0\",\n          \"0ba78ec\"\n        ],\n        \"semantic_type\": \"\",\n        \"description\": \"\"\n      }\n    },\n    {\n      \"column\": \"score\",\n      \"properties\": {\n        \"dtype\": \"number\",\n        \"std\": 1,\n        \"min\": 1,\n        \"max\": 6,\n        \"num_unique_values\": 6,\n        \"samples\": [\n          3,\n          4,\n          6\n        ],\n        \"semantic_type\": \"\",\n        \"description\": \"\"\n      }\n    }\n  ]\n}"
            }
          },
          "metadata": {},
          "execution_count": 18
        }
      ]
    },
    {
      "cell_type": "code",
      "source": [
        "# Explore shapes of data and labels\n",
        "print(f\"Shape of data {data.shape}\")\n",
        "print(f\"Shape of data {test.shape}\")"
      ],
      "metadata": {
        "colab": {
          "base_uri": "https://localhost:8080/"
        },
        "id": "pKzmcN-P_rt-",
        "outputId": "04198ed5-1a94-42e4-80fb-d13a6fd2c364"
      },
      "execution_count": null,
      "outputs": [
        {
          "output_type": "stream",
          "name": "stdout",
          "text": [
            "Shape of data (17307, 2)\n",
            "Shape of data (17307, 1)\n"
          ]
        }
      ]
    },
    {
      "source": [
        "# a heat map to visualize the missing values in the data\n",
        "!pip install seaborn\n",
        "import seaborn as sns # Import the seaborn library and alias it as sns\n",
        "import matplotlib.pyplot as plt # Import the matplotlib library and alias it as plt\n",
        "\n",
        "plt.figure(figsize= (10,6))\n",
        "sns.heatmap(data.isnull())\n",
        "plt.show()"
      ],
      "cell_type": "code",
      "metadata": {
        "colab": {
          "base_uri": "https://localhost:8080/",
          "height": 821
        },
        "id": "WnwJbv0TAAz4",
        "outputId": "1d5cc62e-c15c-42d3-afe3-8c6dd45bc2f4"
      },
      "execution_count": null,
      "outputs": [
        {
          "output_type": "stream",
          "name": "stdout",
          "text": [
            "Requirement already satisfied: seaborn in /usr/local/lib/python3.10/dist-packages (0.13.1)\n",
            "Requirement already satisfied: numpy!=1.24.0,>=1.20 in /usr/local/lib/python3.10/dist-packages (from seaborn) (1.26.4)\n",
            "Requirement already satisfied: pandas>=1.2 in /usr/local/lib/python3.10/dist-packages (from seaborn) (2.1.4)\n",
            "Requirement already satisfied: matplotlib!=3.6.1,>=3.4 in /usr/local/lib/python3.10/dist-packages (from seaborn) (3.7.1)\n",
            "Requirement already satisfied: contourpy>=1.0.1 in /usr/local/lib/python3.10/dist-packages (from matplotlib!=3.6.1,>=3.4->seaborn) (1.3.0)\n",
            "Requirement already satisfied: cycler>=0.10 in /usr/local/lib/python3.10/dist-packages (from matplotlib!=3.6.1,>=3.4->seaborn) (0.12.1)\n",
            "Requirement already satisfied: fonttools>=4.22.0 in /usr/local/lib/python3.10/dist-packages (from matplotlib!=3.6.1,>=3.4->seaborn) (4.53.1)\n",
            "Requirement already satisfied: kiwisolver>=1.0.1 in /usr/local/lib/python3.10/dist-packages (from matplotlib!=3.6.1,>=3.4->seaborn) (1.4.5)\n",
            "Requirement already satisfied: packaging>=20.0 in /usr/local/lib/python3.10/dist-packages (from matplotlib!=3.6.1,>=3.4->seaborn) (24.1)\n",
            "Requirement already satisfied: pillow>=6.2.0 in /usr/local/lib/python3.10/dist-packages (from matplotlib!=3.6.1,>=3.4->seaborn) (9.4.0)\n",
            "Requirement already satisfied: pyparsing>=2.3.1 in /usr/local/lib/python3.10/dist-packages (from matplotlib!=3.6.1,>=3.4->seaborn) (3.1.4)\n",
            "Requirement already satisfied: python-dateutil>=2.7 in /usr/local/lib/python3.10/dist-packages (from matplotlib!=3.6.1,>=3.4->seaborn) (2.8.2)\n",
            "Requirement already satisfied: pytz>=2020.1 in /usr/local/lib/python3.10/dist-packages (from pandas>=1.2->seaborn) (2024.1)\n",
            "Requirement already satisfied: tzdata>=2022.1 in /usr/local/lib/python3.10/dist-packages (from pandas>=1.2->seaborn) (2024.1)\n",
            "Requirement already satisfied: six>=1.5 in /usr/local/lib/python3.10/dist-packages (from python-dateutil>=2.7->matplotlib!=3.6.1,>=3.4->seaborn) (1.16.0)\n"
          ]
        },
        {
          "output_type": "display_data",
          "data": {
            "text/plain": [
              "<Figure size 1000x600 with 2 Axes>"
            ],
            "image/png": "[encoded data removed]"
          },
          "metadata": {}
        }
      ]
    },
    {
      "cell_type": "code",
      "source": [
        "# confirm there is no Null\n",
        "data.isnull().any().sum()\n"
      ],
      "metadata": {
        "colab": {
          "base_uri": "https://localhost:8080/"
        },
        "id": "yWCVTBthAL5z",
        "outputId": "d13d70f6-a7c5-4938-cd97-88928e09b49a"
      },
      "execution_count": null,
      "outputs": [
        {
          "output_type": "execute_result",
          "data": {
            "text/plain": [
              "0"
            ]
          },
          "metadata": {},
          "execution_count": 22
        }
      ]
    },
    {
      "cell_type": "code",
      "source": [
        "import numpy as np\n",
        "import pandas as pd\n",
        "\n",
        "# Replace outliers with the upper and lower IQR bounds\n",
        "def outliers(data):\n",
        "    for col in data.select_dtypes(include=np.number).columns:  # Apply only to numerical columns\n",
        "        IQR = data[col].quantile(0.75) - data[col].quantile(0.25)\n",
        "        lower_bound = data[col].quantile(0.25) - 1.5 * IQR\n",
        "        upper_bound = data[col].quantile(0.75) + 1.5 * IQR\n",
        "        data[col] = np.where(data[col] >= upper_bound, upper_bound, data[col])\n",
        "        data[col] = np.where(data[col] <= lower_bound, lower_bound, data[col])\n",
        "    return data\n",
        "\n",
        "# Apply it to data\n",
        "data = outliers(data)\n",
        "data.shape"
      ],
      "metadata": {
        "colab": {
          "base_uri": "https://localhost:8080/"
        },
        "id": "9sxycJ7QA0ca",
        "outputId": "c73ab29f-5e45-49d9-94b9-2e1a35534e6d"
      },
      "execution_count": null,
      "outputs": [
        {
          "output_type": "execute_result",
          "data": {
            "text/plain": [
              "(17307, 2)"
            ]
          },
          "metadata": {},
          "execution_count": 23
        }
      ]
    },
    {
      "cell_type": "code",
      "source": [
        "# split x as features and y as test\n",
        "x= data\n",
        "y= test.iloc[:,0]"
      ],
      "metadata": {
        "id": "52n6CPiyBAhG"
      },
      "execution_count": null,
      "outputs": []
    },
    {
      "cell_type": "markdown",
      "source": [
        "🔪 | Data Split\n",
        "In the code snippet provided below, we will divide the existing train data into folds using a stratification of label column."
      ],
      "metadata": {
        "id": "iiNzR6NeBZiE"
      }
    },
    {
      "source": [
        "from sklearn.model_selection import train_test_split  # Import package\n",
        "\n",
        "train_df, valid_df = train_test_split(data, test_size=0.2, stratify=data[\"score\"]) # Changed df to data"
      ],
      "cell_type": "code",
      "metadata": {
        "id": "qMTTabLFBnM7"
      },
      "execution_count": null,
      "outputs": []
    },
    {
      "cell_type": "code",
      "source": [
        "# split data 80% training and 20% testing\n",
        "import pandas as pd\n",
        "from sklearn.model_selection import train_test_split\n",
        "# Now split the data\n",
        "x_train, x_test, y_train, y_test = train_test_split(x, y, test_size=0.2, stratify=y, random_state=0)"
      ],
      "metadata": {
        "id": "YotmftgqBspX"
      },
      "execution_count": null,
      "outputs": []
    },
    {
      "cell_type": "markdown",
      "source": [
        "🧂 | Process Labels for Ordinal Regression\n",
        "What is Ordinal Regression? Ordinal regression is a type of supervised learning algorithm used to predict an ordinal or ranked dependent variable. Unlike in typical classification problems where the target variable is categorical, in ordinal regression the target variable has a ordering or ranking. It is also different from typical regression, where the target variable is continuous. In ordinal regression, the target variable has a discrete, ordered set of values, such as levels of satisfaction or performance grades.\n",
        "\n",
        "Why do we need it? Ordinal regression is useful when the target variable (in our competition, the score of an essay) represents a ranking or order. Specifically, ordinal regression can capture the inherent order in the target variable, which standard classification models may not be able to do effectively.\n",
        "\n",
        "For Ordinal Regression, we have to transform the labels, which is different from typical classification or regression. The following code will convert essay scores to an ordinal matrix, which will be used as the ground truth for calculating the loss."
      ],
      "metadata": {
        "id": "HlWmEFvWByjT"
      }
    },
    {
      "cell_type": "code",
      "source": [
        "def to_ordinal(y, num_classes=None, dtype=\"float32\"):\n",
        "    \"\"\"Converts a class vector (integers) to an ordinal regression matrix.\n",
        "\n",
        "    This utility encodes class vector to ordinal regression/classification\n",
        "    matrix where each sample is indicated by a row and rank of that sample is\n",
        "    indicated by number of ones in that row.\n",
        "\n",
        "    Args:\n",
        "        y: Array-like with class values to be converted into a matrix\n",
        "            (integers from 0 to `num_classes - 1`).\n",
        "        num_classes: Total number of classes. If `None`, this would be inferred\n",
        "            as `max(y) + 1`.\n",
        "        dtype: The data type expected by the input. Default: `'float32'`.\n",
        "\n",
        "    Returns:\n",
        "        An ordinal regression matrix representation of the input as a NumPy\n",
        "        array. The class axis is placed last.\n",
        "    \"\"\"\n",
        "    y = np.array(y, dtype=\"int\")\n",
        "    input_shape = y.shape\n",
        "\n",
        "    # Shrink the last dimension if the shape is (..., 1).\n",
        "    if input_shape and input_shape[-1] == 1 and len(input_shape) > 1:\n",
        "        input_shape = tuple(input_shape[:-1])\n",
        "\n",
        "    y = y.reshape(-1)\n",
        "    if not num_classes:\n",
        "        num_classes = np.max(y) + 1\n",
        "    n = y.shape[0]\n",
        "    range_values = np.arange(num_classes - 1)\n",
        "    range_values = np.tile(np.expand_dims(range_values, 0), [n, 1])\n",
        "    ordinal = np.zeros((n, num_classes - 1), dtype=dtype)\n",
        "    ordinal[range_values < np.expand_dims(y, -1)] = 1\n",
        "    output_shape = input_shape + (num_classes - 1,)\n",
        "    ordinal = np.reshape(ordinal, output_shape)\n",
        "    return ordinal"
      ],
      "metadata": {
        "id": "NXUlt0YUBzRX"
      },
      "execution_count": null,
      "outputs": []
    },
    {
      "cell_type": "code",
      "source": [
        "scores = [1, 3, 5, 2, 6]\n",
        "\n",
        "to_ordinal(scores)"
      ],
      "metadata": {
        "colab": {
          "base_uri": "https://localhost:8080/"
        },
        "id": "SayEGOwtB5av",
        "outputId": "d9aa97b5-b241-4dad-fd5d-96f19e9432cf"
      },
      "execution_count": null,
      "outputs": [
        {
          "output_type": "execute_result",
          "data": {
            "text/plain": [
              "array([[1., 0., 0., 0., 0., 0.],\n",
              "       [1., 1., 1., 0., 0., 0.],\n",
              "       [1., 1., 1., 1., 1., 0.],\n",
              "       [1., 1., 0., 0., 0., 0.],\n",
              "       [1., 1., 1., 1., 1., 1.]], dtype=float32)"
            ]
          },
          "metadata": {},
          "execution_count": 32
        }
      ]
    },
    {
      "cell_type": "markdown",
      "source": [
        "Label Conversion"
      ],
      "metadata": {
        "id": "8UCNWyjtB_mb"
      }
    },
    {
      "cell_type": "code",
      "source": [
        "train_df[\"label\"] = to_ordinal(train_df.score.values).tolist()\n",
        "valid_df[\"label\"] = to_ordinal(valid_df.score.values).tolist()"
      ],
      "metadata": {
        "id": "YqXhdwMACAUS"
      },
      "execution_count": null,
      "outputs": []
    },
    {
      "cell_type": "markdown",
      "source": [
        "🎨 | EDA"
      ],
      "metadata": {
        "id": "gT3gNrpuCHG1"
      }
    },
    {
      "source": [
        "# Show distribution of answers using a bar plot\n",
        "plt.figure(figsize=(8, 4))\n",
        "train_df.score.value_counts().plot.bar(color=[cmap(0.0), cmap(0.25), cmap(0.65), cmap(0.9), cmap(1.0)]) # Changed df to train_df\n",
        "plt.xlabel(\"Score\")\n",
        "plt.ylabel(\"Count\")\n",
        "plt.title(\"Score distribution for Train Data\")\n",
        "plt.show()\n",
        "\n",
        "# Show distribution of essay length using a bar plot\n",
        "plt.figure(figsize=(8, 4))\n",
        "train_df['essay_length'] = train_df.full_text.map(len) # Changed df to train_df\n",
        "train_df.essay_length.plot.hist(logy=False, color=cmap(0.9)) # Changed df to train_df\n",
        "plt.xlabel(\"Essay Length\")\n",
        "plt.ylabel(\"Count\")\n",
        "plt.title(\"Essay Length distribution for Train Data\")\n",
        "plt.show()"
      ],
      "cell_type": "code",
      "metadata": {
        "colab": {
          "base_uri": "https://localhost:8080/",
          "height": 811
        },
        "id": "ge-m5DUbCS8p",
        "outputId": "86788f04-6ea4-4e07-eba7-33dda246e920"
      },
      "execution_count": null,
      "outputs": [
        {
          "output_type": "display_data",
          "data": {
            "text/plain": [
              "<Figure size 800x400 with 1 Axes>"
            ],
            "image/png": "[encoded data removed]"
          },
          "metadata": {}
        },
        {
          "output_type": "display_data",
          "data": {
            "text/plain": [
              "<Figure size 800x400 with 1 Axes>"
            ],
            "image/png": "[encoded data removed]"
          },
          "metadata": {}
        }
      ]
    },
    {
      "cell_type": "markdown",
      "source": [
        "🍽️ | Preprocessing\n",
        "What it does: The preprocessor takes input strings and transforms them into a dictionary (token_ids, padding_mask) containing preprocessed tensors. This process starts with tokenization, where input strings are converted into sequences of token IDs.\n",
        "\n",
        "Why it's important: Initially, raw text data is complex and challenging for modeling due to its high dimensionality. By converting text into a compact set of tokens, such as transforming \"The quick brown fox\" into [\"the\", \"qu\", \"##ick\", \"br\", \"##own\", \"fox\"], we simplify the data. Many models rely on special tokens and additional tensors to understand input. These tokens help divide input and identify padding, among other tasks. Making all sequences the same length through padding boosts computational efficiency, making subsequent steps smoother."
      ],
      "metadata": {
        "id": "VwPbzWp6CfMD"
      }
    },
    {
      "cell_type": "code",
      "source": [
        "preprocessor = keras_nlp.models.DebertaV3Preprocessor.from_preset(\n",
        "    preset=CFG.preset, # Name of the model\n",
        "    sequence_length=CFG.sequence_length, # Max sequence length, will be padded if shorter\n",
        ")"
      ],
      "metadata": {
        "colab": {
          "base_uri": "https://localhost:8080/"
        },
        "id": "CfY23ZheCf4F",
        "outputId": "064c5bd7-8655-4485-8b95-a79eb7d42e1b"
      },
      "execution_count": null,
      "outputs": [
        {
          "output_type": "stream",
          "name": "stdout",
          "text": [
            "Downloading from https://www.kaggle.com/api/v1/models/keras/deberta_v3/keras/deberta_v3_extra_small_en/2/download/metadata.json...\n"
          ]
        },
        {
          "output_type": "stream",
          "name": "stderr",
          "text": [
            "100%|██████████| 140/140 [00:00<00:00, 211kB/s]\n"
          ]
        },
        {
          "output_type": "stream",
          "name": "stdout",
          "text": [
            "Downloading from https://www.kaggle.com/api/v1/models/keras/deberta_v3/keras/deberta_v3_extra_small_en/2/download/tokenizer.json...\n"
          ]
        },
        {
          "output_type": "stream",
          "name": "stderr",
          "text": [
            "100%|██████████| 424/424 [00:00<00:00, 674kB/s]\n"
          ]
        },
        {
          "output_type": "stream",
          "name": "stdout",
          "text": [
            "Downloading from https://www.kaggle.com/api/v1/models/keras/deberta_v3/keras/deberta_v3_extra_small_en/2/download/assets/tokenizer/vocabulary.spm...\n"
          ]
        },
        {
          "output_type": "stream",
          "name": "stderr",
          "text": [
            "100%|██████████| 2.35M/2.35M [00:00<00:00, 11.0MB/s]\n"
          ]
        }
      ]
    },
    {
      "source": [
        "# Ensure that 'df' is defined and contains the expected DataFrame.\n",
        "# If 'df' is not defined, you'll need to create or load it\n",
        "# with the appropriate data. For example, you might load it from a CSV file:\n",
        "\n",
        "import pandas as pd\n",
        "df =pd.read_csv(\"/content/drive/MyDrive/ML/train.csv\",index_col=0)\n",
        "\n",
        "# Now you can use 'df'\n",
        "inp = preprocessor(df.full_text.iloc[0])\n",
        "\n",
        "# Display the shape of each processed output\n",
        "for k, v in inp.items():\n",
        "    print(k, \":\", v.shape)"
      ],
      "cell_type": "code",
      "metadata": {
        "colab": {
          "base_uri": "https://localhost:8080/"
        },
        "id": "tFD955KQDEsH",
        "outputId": "e8a1a3ec-db22-45a6-f3e6-1ee98d33653f"
      },
      "execution_count": null,
      "outputs": [
        {
          "output_type": "stream",
          "name": "stdout",
          "text": [
            "token_ids : (512,)\n",
            "padding_mask : (512,)\n"
          ]
        }
      ]
    },
    {
      "cell_type": "markdown",
      "source": [
        "We'll use the preprocessing_fn function to transform each text option using the dataset.map(preprocessing_fn) method."
      ],
      "metadata": {
        "id": "Q7QqIAeRDpuE"
      }
    },
    {
      "cell_type": "code",
      "source": [
        "def preprocess_fn(text, label=None):\n",
        "    text = preprocessor(text)  # Preprocess text\n",
        "    return (text, label) if label is not None else text  # Return processed text and label if available"
      ],
      "metadata": {
        "id": "RqmxLH8gDqnA"
      },
      "execution_count": null,
      "outputs": []
    },
    {
      "cell_type": "markdown",
      "source": [
        "🍚 | DataLoader\n",
        "The code below sets up a robust data flow pipeline using tf.data.Dataset for data processing. Notable aspects of tf.data include its ability to simplify pipeline construction and represent components in sequences.\n",
        "\n",
        "To learn more about tf.data"
      ],
      "metadata": {
        "id": "ufQGSBGSD2x0"
      }
    },
    {
      "cell_type": "code",
      "source": [
        "def build_dataset(texts, labels=None, batch_size=32,\n",
        "                  cache=True, drop_remainder=True,\n",
        "                  shuffle=1024):\n",
        "    AUTO = tf.data.AUTOTUNE  # AUTOTUNE option\n",
        "    slices = (texts,) if labels is None else (texts, labels)  # Create slices\n",
        "    ds = tf.data.Dataset.from_tensor_slices(slices)  # Create dataset from slices\n",
        "    ds = ds.cache() if cache else ds  # Cache dataset if enabled\n",
        "    ds = ds.map(preprocess_fn, num_parallel_calls=AUTO)  # Map preprocessing function\n",
        "    opt = tf.data.Options()  # Create dataset options\n",
        "    if shuffle:\n",
        "        ds = ds.shuffle(shuffle, seed=CFG.seed)  # Shuffle dataset if enabled\n",
        "        opt.experimental_deterministic = False\n",
        "    ds = ds.with_options(opt)  # Set dataset options\n",
        "    ds = ds.batch(batch_size, drop_remainder=drop_remainder)  # Batch dataset\n",
        "    ds = ds.prefetch(AUTO)  # Prefetch next batch\n",
        "    return ds\n"
      ],
      "metadata": {
        "id": "7vm15gh1D30-"
      },
      "execution_count": null,
      "outputs": []
    },
    {
      "cell_type": "markdown",
      "source": [
        "Build Train/Valid Dataset\n",
        "The function below generates the training and validation datasets"
      ],
      "metadata": {
        "id": "WD47KSkPEINX"
      }
    },
    {
      "cell_type": "code",
      "source": [
        "# Train Data\n",
        "train_texts = train_df.full_text.tolist()  # Extract training texts\n",
        "train_labels = np.array(train_df.label.tolist())  # Extract training labels\n",
        "\n",
        "# Build training dataset\n",
        "train_ds = build_dataset(\n",
        "    train_texts, train_labels, batch_size=CFG.batch_size, shuffle=True\n",
        ")\n",
        "\n",
        "# Valid Data\n",
        "valid_texts = valid_df.full_text.tolist()  # Extract validation texts\n",
        "valid_labels = np.array(valid_df.label.tolist())  # Extract validation labels\n",
        "\n",
        "# Build validation dataset\n",
        "valid_ds = build_dataset(\n",
        "    valid_texts, valid_labels, batch_size=CFG.batch_size, shuffle=False\n",
        ")"
      ],
      "metadata": {
        "id": "PPlZ_MMlEFME"
      },
      "execution_count": null,
      "outputs": []
    },
    {
      "cell_type": "markdown",
      "source": [
        "⚓ | LR Schedule\n",
        "Implementing a learning rate scheduler is crucial for transfer learning. The learning rate initiates at lr_start and gradually tapers down to lr_min using various techniques, including:\n",
        "\n",
        "step: Lowering the learning rate in step-wise manner resembling stairs.\n",
        "cos: Utilizing a cosine curve to gradually reduce the learning rate.\n",
        "exp: Exponentially decreasing the learning rate.\n",
        "Importance: A well-structured learning rate schedule is essential for efficient model training, ensuring optimal convergence and avoiding issues such as overshooting or stagnation"
      ],
      "metadata": {
        "id": "MIw2yBZxENbS"
      }
    },
    {
      "cell_type": "code",
      "source": [
        "import math\n",
        "\n",
        "def get_lr_callback(batch_size=8, mode='cos', epochs=10, plot=False):\n",
        "    lr_start, lr_max, lr_min = 0.6e-5, 0.3e-5 * batch_size, 0.3e-5\n",
        "    lr_ramp_ep, lr_sus_ep, lr_decay = 2, 0, 0.75\n",
        "\n",
        "    def lrfn(epoch):  # Learning rate update function\n",
        "        if epoch < lr_ramp_ep: lr = (lr_max - lr_start) / lr_ramp_ep * epoch + lr_start\n",
        "        elif epoch < lr_ramp_ep + lr_sus_ep: lr = lr_max\n",
        "        elif mode == 'exp': lr = (lr_max - lr_min) * lr_decay**(epoch - lr_ramp_ep - lr_sus_ep) + lr_min\n",
        "        elif mode == 'step': lr = lr_max * lr_decay**((epoch - lr_ramp_ep - lr_sus_ep) // 2)\n",
        "        elif mode == 'cos':\n",
        "            decay_total_epochs, decay_epoch_index = epochs - lr_ramp_ep - lr_sus_ep + 3, epoch - lr_ramp_ep - lr_sus_ep\n",
        "            phase = math.pi * decay_epoch_index / decay_total_epochs\n",
        "            lr = (lr_max - lr_min) * 0.5 * (1 + math.cos(phase)) + lr_min\n",
        "        return lr\n",
        "\n",
        "    if plot:  # Plot lr curve if plot is True\n",
        "        plt.figure(figsize=(10, 5))\n",
        "        plt.plot(np.arange(epochs), [lrfn(epoch) for epoch in np.arange(epochs)], marker='o')\n",
        "        plt.xlabel('epoch'); plt.ylabel('lr')\n",
        "        plt.title('LR Scheduler')\n",
        "        plt.show()\n",
        "\n",
        "    return keras.callbacks.LearningRateScheduler(lrfn, verbose=False)  # Create lr callback"
      ],
      "metadata": {
        "id": "KBE7yq6VEOJe"
      },
      "execution_count": null,
      "outputs": []
    },
    {
      "cell_type": "code",
      "source": [
        "lr_cb = get_lr_callback(CFG.batch_size, plot=True)"
      ],
      "metadata": {
        "colab": {
          "base_uri": "https://localhost:8080/",
          "height": 487
        },
        "id": "4r_megv1EVBj",
        "outputId": "6492bc56-1f12-48ff-e282-ff548b68abce"
      },
      "execution_count": null,
      "outputs": [
        {
          "output_type": "display_data",
          "data": {
            "text/plain": [
              "<Figure size 1000x500 with 1 Axes>"
            ],
            "image/png": "[encoded data removed]"
          },
          "metadata": {}
        }
      ]
    },
    {
      "cell_type": "markdown",
      "source": [
        "💾 | Model Checkpointing\n",
        "The following code will create a callback that will save the best checkpoint of the model during training, which we will use for inference in the submission"
      ],
      "metadata": {
        "id": "MVlb8HaqElU_"
      }
    },
    {
      "cell_type": "code",
      "source": [
        "ckpt_cb = keras.callbacks.ModelCheckpoint(\n",
        "    \"best_model.weights.h5\",\n",
        "    monitor=\"val_weighted_kappa\",\n",
        "    save_best_only=True,\n",
        "    save_weights_only=True,\n",
        "    mode=\"max\",\n",
        ")"
      ],
      "metadata": {
        "id": "GGc7lioGEl-d"
      },
      "execution_count": null,
      "outputs": []
    },
    {
      "cell_type": "markdown",
      "source": [
        "📏 | Metric\n",
        "The metric for this competition is quadratic Weighted Kappa. This metric is particularly useful for tasks involving ordinal classification (where labels have inherent order). The following code implements this metric from scratch."
      ],
      "metadata": {
        "id": "o2Zf2OBbEsVt"
      }
    },
    {
      "cell_type": "code",
      "source": [
        "class WeightedKappa(keras.metrics.Metric):\n",
        "    def __init__(self, num_classes=6, epsilon=1e-6):\n",
        "        super().__init__(name=\"weighted_kappa\")\n",
        "        self.num_classes = num_classes\n",
        "        self.epsilon = epsilon\n",
        "\n",
        "        label_vec = keras.ops.arange(num_classes, dtype=keras.backend.floatx())\n",
        "        self.row_label_vec = keras.ops.reshape(label_vec, [1, num_classes])\n",
        "        self.col_label_vec = keras.ops.reshape(label_vec, [num_classes, 1])\n",
        "        col_mat = keras.ops.tile(self.col_label_vec, [1, num_classes])\n",
        "        row_mat = keras.ops.tile(self.row_label_vec, [num_classes, 1])\n",
        "        self.weight_mat = (col_mat - row_mat) ** 2\n",
        "\n",
        "        self.numerator = self.add_weight(name=\"numerator\", initializer=\"zeros\")\n",
        "        self.denominator = self.add_weight(name=\"denominator\", initializer=\"zeros\")\n",
        "        self.o_sum = self.add_weight(name=\"o_sum\", initializer=\"zeros\")\n",
        "        self.e_sum = self.add_weight(name=\"e_sum\", initializer=\"zeros\")\n",
        "\n",
        "    def update_state(self, y_true, y_pred, **args):\n",
        "        # revert ordinal regression labels to classification labels\n",
        "        y_true = keras.ops.one_hot(\n",
        "            keras.ops.sum(keras.ops.cast(y_true, dtype=\"int8\"), axis=-1) - 1, 6\n",
        "        )\n",
        "        y_pred = keras.ops.one_hot(\n",
        "            keras.ops.sum(keras.ops.cast(y_pred > 0.5, dtype=\"int8\"), axis=-1) - 1, 6\n",
        "        )\n",
        "        # weighted kappa calculation\n",
        "        y_true = keras.ops.cast(y_true, dtype=self.col_label_vec.dtype)\n",
        "        y_pred = keras.ops.cast(y_pred, dtype=self.weight_mat.dtype)\n",
        "        batch_size = keras.ops.shape(y_true)[0]\n",
        "\n",
        "        cat_labels = keras.ops.matmul(y_true, self.col_label_vec)\n",
        "        cat_label_mat = keras.ops.tile(cat_labels, [1, self.num_classes])\n",
        "        row_label_mat = keras.ops.tile(self.row_label_vec, [batch_size, 1])\n",
        "\n",
        "        weight = (cat_label_mat - row_label_mat) ** 2\n",
        "\n",
        "        self.numerator.assign_add(keras.ops.sum(weight * y_pred))\n",
        "        label_dist = keras.ops.sum(y_true, axis=0, keepdims=True)\n",
        "        pred_dist = keras.ops.sum(y_pred, axis=0, keepdims=True)\n",
        "        w_pred_dist = keras.ops.matmul(\n",
        "            self.weight_mat, keras.ops.transpose(pred_dist, [1, 0])\n",
        "        )\n",
        "        self.denominator.assign_add(\n",
        "            keras.ops.sum(keras.ops.matmul(label_dist, w_pred_dist))\n",
        "        )\n",
        "\n",
        "        self.o_sum.assign_add(keras.ops.sum(y_pred))\n",
        "        self.e_sum.assign_add(\n",
        "            keras.ops.sum(\n",
        "                keras.ops.matmul(keras.ops.transpose(label_dist, [1, 0]), pred_dist)\n",
        "            )\n",
        "        )\n",
        "\n",
        "    def result(self):\n",
        "        return 1.0 - (\n",
        "            keras.ops.divide_no_nan(self.numerator, self.denominator)\n",
        "            * keras.ops.divide_no_nan(self.e_sum, self.o_sum)\n",
        "        )\n",
        "\n",
        "    def reset_state(self):\n",
        "        self.numerator.assign(0)\n",
        "        self.denominator.assign(0)\n",
        "        self.o_sum.assign(0)\n",
        "        self.e_sum.assign(0)"
      ],
      "metadata": {
        "id": "UQaGtD0VEtwG"
      },
      "execution_count": null,
      "outputs": []
    },
    {
      "cell_type": "markdown",
      "source": [
        "🤖 | Modeling¶\n",
        "KerasNLP Classifier\n",
        "The KerasNLP library provides comprehensive, ready-to-use implementations of popular NLP model architectures. It features a variety of pre-trained models including Bert, Roberta, DebertaV3, and more. In this notebook, we'll showcase the usage of DebertaV3. However, feel free to explore all available models in the KerasNLP documentation. Also, for a deeper understanding of KerasNLP, refer to the informative getting started guide.\n",
        "\n",
        "Our approach involves using keras_nlp.models.DebertaV3Classifier to process each text and generate logits. These logits are passed through a sigmoid function to produce the final output.\n",
        "\n",
        "Note that we are tackling this problem as an ordinal regression problem, thus we have used sigmoid activation, but we can also consider this problem as a classification problem; then, we would've used num_classes=6, softmax activation, and categorical_crossentropy loss. We could even consider this as a regression problem with num_classes=1, no activation layer, and regression losses like MSE, MAE, etc. You are welcome to experiment with the typical classification and regression methods."
      ],
      "metadata": {
        "id": "zQZJNW_EE1TB"
      }
    },
    {
      "cell_type": "code",
      "source": [
        "# Create a DebertaV3Classifier model\n",
        "classifier = keras_nlp.models.DebertaV3Classifier.from_preset(\n",
        "    CFG.preset, preprocessor=None, num_classes=6\n",
        ")\n",
        "inputs = classifier.input\n",
        "logits = classifier(inputs)\n",
        "\n",
        "# Compute final output\n",
        "outputs = keras.layers.Activation(\"sigmoid\")(logits)\n",
        "\n",
        "# Build Model\n",
        "model = keras.Model(inputs, outputs)\n",
        "\n",
        "# Compile the model with optimizer, loss, and metrics\n",
        "model.compile(\n",
        "    optimizer=keras.optimizers.Adam(5e-6),\n",
        "    loss=keras.losses.BinaryCrossentropy(),\n",
        "    metrics=[\n",
        "        WeightedKappa()\n",
        "    ],\n",
        ")\n",
        "model.summary()\n",
        "\n",
        "\n"
      ],
      "metadata": {
        "colab": {
          "base_uri": "https://localhost:8080/",
          "height": 346
        },
        "id": "PnCPgK9aE1-h",
        "outputId": "f8edb4c9-d5ac-4607-8d69-2bbf6eda5ca4"
      },
      "execution_count": null,
      "outputs": [
        {
          "output_type": "stream",
          "name": "stdout",
          "text": [
            "Downloading from https://www.kaggle.com/api/v1/models/keras/deberta_v3/keras/deberta_v3_extra_small_en/2/download/config.json...\n"
          ]
        },
        {
          "output_type": "stream",
          "name": "stderr",
          "text": [
            "100%|██████████| 539/539 [00:00<00:00, 832kB/s]\n"
          ]
        },
        {
          "output_type": "stream",
          "name": "stdout",
          "text": [
            "Downloading from https://www.kaggle.com/api/v1/models/keras/deberta_v3/keras/deberta_v3_extra_small_en/2/download/model.weights.h5...\n"
          ]
        },
        {
          "output_type": "stream",
          "name": "stderr",
          "text": [
            "100%|██████████| 270M/270M [00:04<00:00, 59.8MB/s]\n"
          ]
        },
        {
          "output_type": "display_data",
          "data": {
            "text/plain": [
              "\u001b[1mModel: \"functional\"\u001b[0m\n"
            ],
            "text/html": [
              "<pre style=\"white-space:pre;overflow-x:auto;line-height:normal;font-family:Menlo,'DejaVu Sans Mono',consolas,'Courier New',monospace\"><span style=\"font-weight: bold\">Model: \"functional\"</span>\n",
              "</pre>\n"
            ]
          },
          "metadata": {}
        },
        {
          "output_type": "display_data",
          "data": {
            "text/plain": [
              "┏━━━━━━━━━━━━━━━━━━━━━━━━━━━┳━━━━━━━━━━━━━━━━━━━━━━━━┳━━━━━━━━━━━━━━━━┳━━━━━━━━━━━━━━━━━━━━━━━━┓\n",
              "┃\u001b[1m \u001b[0m\u001b[1mLayer (type)             \u001b[0m\u001b[1m \u001b[0m┃\u001b[1m \u001b[0m\u001b[1mOutput Shape          \u001b[0m\u001b[1m \u001b[0m┃\u001b[1m \u001b[0m\u001b[1m       Param #\u001b[0m\u001b[1m \u001b[0m┃\u001b[1m \u001b[0m\u001b[1mConnected to          \u001b[0m\u001b[1m \u001b[0m┃\n",
              "┡━━━━━━━━━━━━━━━━━━━━━━━━━━━╇━━━━━━━━━━━━━━━━━━━━━━━━╇━━━━━━━━━━━━━━━━╇━━━━━━━━━━━━━━━━━━━━━━━━┩\n",
              "│ padding_mask (\u001b[38;5;33mInputLayer\u001b[0m) │ (\u001b[38;5;45mNone\u001b[0m, \u001b[38;5;45mNone\u001b[0m)           │              \u001b[38;5;34m0\u001b[0m │ -                      │\n",
              "├───────────────────────────┼────────────────────────┼────────────────┼────────────────────────┤\n",
              "│ token_ids (\u001b[38;5;33mInputLayer\u001b[0m)    │ (\u001b[38;5;45mNone\u001b[0m, \u001b[38;5;45mNone\u001b[0m)           │              \u001b[38;5;34m0\u001b[0m │ -                      │\n",
              "├───────────────────────────┼────────────────────────┼────────────────┼────────────────────────┤\n",
              "│ deberta_v3_classifier     │ (\u001b[38;5;45mNone\u001b[0m, \u001b[38;5;34m6\u001b[0m)              │     \u001b[38;5;34m70,832,262\u001b[0m │ padding_mask[\u001b[38;5;34m0\u001b[0m][\u001b[38;5;34m0\u001b[0m],    │\n",
              "│ (\u001b[38;5;33mDebertaV3Classifier\u001b[0m)     │                        │                │ token_ids[\u001b[38;5;34m0\u001b[0m][\u001b[38;5;34m0\u001b[0m]        │\n",
              "├───────────────────────────┼────────────────────────┼────────────────┼────────────────────────┤\n",
              "│ activation (\u001b[38;5;33mActivation\u001b[0m)   │ (\u001b[38;5;45mNone\u001b[0m, \u001b[38;5;34m6\u001b[0m)              │              \u001b[38;5;34m0\u001b[0m │ deberta_v3_classifier… │\n",
              "└───────────────────────────┴────────────────────────┴────────────────┴────────────────────────┘\n"
            ],
            "text/html": [
              "<pre style=\"white-space:pre;overflow-x:auto;line-height:normal;font-family:Menlo,'DejaVu Sans Mono',consolas,'Courier New',monospace\">┏━━━━━━━━━━━━━━━━━━━━━━━━━━━┳━━━━━━━━━━━━━━━━━━━━━━━━┳━━━━━━━━━━━━━━━━┳━━━━━━━━━━━━━━━━━━━━━━━━┓\n",
              "┃<span style=\"font-weight: bold\"> Layer (type)              </span>┃<span style=\"font-weight: bold\"> Output Shape           </span>┃<span style=\"font-weight: bold\">        Param # </span>┃<span style=\"font-weight: bold\"> Connected to           </span>┃\n",
              "┡━━━━━━━━━━━━━━━━━━━━━━━━━━━╇━━━━━━━━━━━━━━━━━━━━━━━━╇━━━━━━━━━━━━━━━━╇━━━━━━━━━━━━━━━━━━━━━━━━┩\n",
              "│ padding_mask (<span style=\"color: #0087ff; text-decoration-color: #0087ff\">InputLayer</span>) │ (<span style=\"color: #00d7ff; text-decoration-color: #00d7ff\">None</span>, <span style=\"color: #00d7ff; text-decoration-color: #00d7ff\">None</span>)           │              <span style=\"color: #00af00; text-decoration-color: #00af00\">0</span> │ -                      │\n",
              "├───────────────────────────┼────────────────────────┼────────────────┼────────────────────────┤\n",
              "│ token_ids (<span style=\"color: #0087ff; text-decoration-color: #0087ff\">InputLayer</span>)    │ (<span style=\"color: #00d7ff; text-decoration-color: #00d7ff\">None</span>, <span style=\"color: #00d7ff; text-decoration-color: #00d7ff\">None</span>)           │              <span style=\"color: #00af00; text-decoration-color: #00af00\">0</span> │ -                      │\n",
              "├───────────────────────────┼────────────────────────┼────────────────┼────────────────────────┤\n",
              "│ deberta_v3_classifier     │ (<span style=\"color: #00d7ff; text-decoration-color: #00d7ff\">None</span>, <span style=\"color: #00af00; text-decoration-color: #00af00\">6</span>)              │     <span style=\"color: #00af00; text-decoration-color: #00af00\">70,832,262</span> │ padding_mask[<span style=\"color: #00af00; text-decoration-color: #00af00\">0</span>][<span style=\"color: #00af00; text-decoration-color: #00af00\">0</span>],    │\n",
              "│ (<span style=\"color: #0087ff; text-decoration-color: #0087ff\">DebertaV3Classifier</span>)     │                        │                │ token_ids[<span style=\"color: #00af00; text-decoration-color: #00af00\">0</span>][<span style=\"color: #00af00; text-decoration-color: #00af00\">0</span>]        │\n",
              "├───────────────────────────┼────────────────────────┼────────────────┼────────────────────────┤\n",
              "│ activation (<span style=\"color: #0087ff; text-decoration-color: #0087ff\">Activation</span>)   │ (<span style=\"color: #00d7ff; text-decoration-color: #00d7ff\">None</span>, <span style=\"color: #00af00; text-decoration-color: #00af00\">6</span>)              │              <span style=\"color: #00af00; text-decoration-color: #00af00\">0</span> │ deberta_v3_classifier… │\n",
              "└───────────────────────────┴────────────────────────┴────────────────┴────────────────────────┘\n",
              "</pre>\n"
            ]
          },
          "metadata": {}
        },
        {
          "output_type": "display_data",
          "data": {
            "text/plain": [
              "\u001b[1m Total params: \u001b[0m\u001b[38;5;34m70,832,262\u001b[0m (270.20 MB)\n"
            ],
            "text/html": [
              "<pre style=\"white-space:pre;overflow-x:auto;line-height:normal;font-family:Menlo,'DejaVu Sans Mono',consolas,'Courier New',monospace\"><span style=\"font-weight: bold\"> Total params: </span><span style=\"color: #00af00; text-decoration-color: #00af00\">70,832,262</span> (270.20 MB)\n",
              "</pre>\n"
            ]
          },
          "metadata": {}
        },
        {
          "output_type": "display_data",
          "data": {
            "text/plain": [
              "\u001b[1m Trainable params: \u001b[0m\u001b[38;5;34m70,832,262\u001b[0m (270.20 MB)\n"
            ],
            "text/html": [
              "<pre style=\"white-space:pre;overflow-x:auto;line-height:normal;font-family:Menlo,'DejaVu Sans Mono',consolas,'Courier New',monospace\"><span style=\"font-weight: bold\"> Trainable params: </span><span style=\"color: #00af00; text-decoration-color: #00af00\">70,832,262</span> (270.20 MB)\n",
              "</pre>\n"
            ]
          },
          "metadata": {}
        },
        {
          "output_type": "display_data",
          "data": {
            "text/plain": [
              "\u001b[1m Non-trainable params: \u001b[0m\u001b[38;5;34m0\u001b[0m (0.00 B)\n"
            ],
            "text/html": [
              "<pre style=\"white-space:pre;overflow-x:auto;line-height:normal;font-family:Menlo,'DejaVu Sans Mono',consolas,'Courier New',monospace\"><span style=\"font-weight: bold\"> Non-trainable params: </span><span style=\"color: #00af00; text-decoration-color: #00af00\">0</span> (0.00 B)\n",
              "</pre>\n"
            ]
          },
          "metadata": {}
        }
      ]
    },
    {
      "source": [
        "class WeightedKappa(keras.metrics.Metric):\n",
        "    def __init__(self, num_classes=6, epsilon=1e-6):\n",
        "        super().__init__(name=\"weighted_kappa\")\n",
        "        self.num_classes = num_classes\n",
        "        self.epsilon = epsilon\n",
        "\n",
        "        label_vec = keras.ops.arange(num_classes, dtype=keras.backend.floatx())\n",
        "        self.row_label_vec = keras.ops.reshape(label_vec, [1, num_classes])\n",
        "        self.col_label_vec = keras.ops.reshape(label_vec, [num_classes, 1])\n",
        "        col_mat = keras.ops.tile(self.col_label_vec, [1, num_classes])\n",
        "        row_mat = keras.ops.tile(self.row_label_vec, [num_classes, 1])\n",
        "        self.weight_mat = (col_mat - row_mat) ** 2\n",
        "\n",
        "        # Ensure initializers are callable\n",
        "        self.numerator = self.add_weight(name=\"numerator\", initializer='zeros')\n",
        "        self.denominator = self.add_weight(name=\"denominator\", initializer='zeros')\n",
        "        self.o_sum = self.add_weight(name=\"o_sum\", initializer='zeros')\n",
        "        self.e_sum = self.add_weight(name=\"e_sum\", initializer='zeros')\n",
        "\n",
        "    def update_state(self, y_true, y_pred, **args):\n",
        "        # revert ordinal regression labels to classification labels\n",
        "        y_true = keras.ops.one_hot(\n",
        "            keras.ops.sum(keras.ops.cast(y_true, dtype=\"int8\"), axis=-1) - 1, 6\n",
        "        )\n",
        "        y_pred = keras.ops.one_hot(\n",
        "            keras.ops.sum(keras.ops.cast(y_pred > 0.5, dtype=\"int8\"), axis=-1) - 1, 6\n",
        "        )\n",
        "        # weighted kappa calculation\n",
        "        y_true = keras.ops.cast(y_true, dtype=self.col_label_vec.dtype)\n",
        "        y_pred = keras.ops.cast(y_pred, dtype=self.weight_mat.dtype)\n",
        "        batch_size = keras.ops.shape(y_true)[0]\n",
        "\n",
        "        cat_labels = keras.ops.matmul(y_true, self.col_label_vec)\n",
        "        cat_label_mat = keras.ops.tile(cat_labels, [1, self.num_classes])\n",
        "        row_label_mat = keras.ops.tile(self.row_label_vec, [batch_size, 1])\n",
        "\n",
        "        weight = (cat_label_mat - row_label_mat) ** 2\n",
        "\n",
        "        self.numerator.assign_add(keras.ops.sum(weight * y_pred))\n",
        "        label_dist = keras.ops.sum(y_true, axis=0, keepdims=True)\n",
        "        pred_dist = keras.ops.sum(y_pred, axis=0, keepdims=True)\n",
        "        w_pred_dist = keras.ops.matmul(\n",
        "            self.weight_mat, keras.ops.transpose(pred_dist, [1, 0])\n",
        "        )\n",
        "        self.denominator.assign_add(\n",
        "            keras.ops.sum(keras.ops.matmul(label_dist, w_pred_dist))\n",
        "        )\n",
        "\n",
        "        self.o_sum.assign_add(keras.ops.sum(y_pred))\n",
        "        self.e_sum.assign_add(\n",
        "            keras.ops.sum(\n",
        "                keras.ops.matmul(keras.ops.transpose(label_dist, [1, 0]), pred_dist)\n",
        "            )\n",
        "        )\n",
        "\n",
        "    def result(self):\n",
        "        return 1.0 - (\n",
        "            keras.ops.divide_no_nan(self.numerator, self.denominator)\n",
        "            * keras.ops.divide_no_nan(self.e_sum, self.o_sum)\n",
        "        )\n",
        "\n",
        "    def reset_state(self):\n",
        "        self.numerator.assign(0)\n",
        "        self.denominator.assign(0)\n"
      ],
      "cell_type": "code",
      "metadata": {
        "id": "PJUGt99UHjhI"
      },
      "execution_count": null,
      "outputs": []
    }
  ]
}